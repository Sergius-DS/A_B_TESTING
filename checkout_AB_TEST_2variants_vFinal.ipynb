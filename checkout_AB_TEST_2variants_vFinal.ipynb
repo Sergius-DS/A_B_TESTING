{
  "nbformat": 4,
  "nbformat_minor": 0,
  "metadata": {
    "colab": {
      "provenance": [],
      "authorship_tag": "ABX9TyNjey/s+iTF3mhlRpumhLd3",
      "include_colab_link": true
    },
    "kernelspec": {
      "name": "python3",
      "display_name": "Python 3"
    },
    "language_info": {
      "name": "python"
    }
  },
  "cells": [
    {
      "cell_type": "markdown",
      "metadata": {
        "id": "view-in-github",
        "colab_type": "text"
      },
      "source": [
        "<a href=\"https://colab.research.google.com/github/Sergius-DS/A_B_TESTING/blob/main/checkout_AB_TEST_2variants_vFinal.ipynb\" target=\"_parent\"><img src=\"https://colab.research.google.com/assets/colab-badge.svg\" alt=\"Open In Colab\"/></a>"
      ]
    },
    {
      "cell_type": "code",
      "source": [
        "!pip install pingouin\n",
        "import pingouin"
      ],
      "metadata": {
        "id": "FWxiOGREjOXY"
      },
      "execution_count": null,
      "outputs": []
    },
    {
      "cell_type": "code",
      "source": [
        "import warnings\n",
        "# Suppress FutureWarnings\n",
        "warnings.filterwarnings(\"ignore\", category=FutureWarning)\n",
        "\n",
        "import pandas as pd\n",
        "import numpy as np\n",
        "import matplotlib.pyplot as plt\n",
        "import seaborn as sns\n",
        "\n",
        "from scipy.stats import norm\n",
        "\n",
        "from scipy import stats\n",
        "from scipy.stats import chisquare\n",
        "\n",
        "from statsmodels.stats.proportion import proportion_effectsize\n",
        "from statsmodels.stats import power\n",
        "from statsmodels.stats.proportion import proportions_ztest, proportion_confint"
      ],
      "metadata": {
        "id": "cf0kLVwQH5Wu"
      },
      "execution_count": null,
      "outputs": []
    },
    {
      "cell_type": "markdown",
      "source": [
        "# EXPLORATORY DATA ANALYSIS"
      ],
      "metadata": {
        "id": "XvyQBeCJM29d"
      }
    },
    {
      "cell_type": "code",
      "source": [
        "checkout = pd.read_csv('checkout.csv')"
      ],
      "metadata": {
        "id": "74ZzRoMKLRH4"
      },
      "execution_count": null,
      "outputs": []
    },
    {
      "cell_type": "code",
      "source": [
        "checkout.head()"
      ],
      "metadata": {
        "colab": {
          "base_uri": "https://localhost:8080/",
          "height": 206
        },
        "id": "YuUn1c1XLWwl",
        "outputId": "90147eda-661b-423e-fb85-afae1eddb299"
      },
      "execution_count": null,
      "outputs": [
        {
          "output_type": "execute_result",
          "data": {
            "text/plain": [
              "   Unnamed: 0  user_id checkout_page  order_value  purchased gender  browser  \\\n",
              "0           0   877621             A    29.410131        1.0      F   chrome   \n",
              "1           1   876599             A          NaN        0.0      M  firefox   \n",
              "2           2   905407             A    27.446845        1.0      M   chrome   \n",
              "3           3   883562             A    30.602233        1.0      M   safari   \n",
              "4           4   840542             A    29.668895        1.0      F   safari   \n",
              "\n",
              "   time_on_page  \n",
              "0     66.168628  \n",
              "1     49.801887  \n",
              "2     56.744856  \n",
              "3     71.890718  \n",
              "4     67.410696  "
            ],
            "text/html": [
              "\n",
              "  <div id=\"df-41f96f27-ea6c-4420-8a14-d409a0543c1e\" class=\"colab-df-container\">\n",
              "    <div>\n",
              "<style scoped>\n",
              "    .dataframe tbody tr th:only-of-type {\n",
              "        vertical-align: middle;\n",
              "    }\n",
              "\n",
              "    .dataframe tbody tr th {\n",
              "        vertical-align: top;\n",
              "    }\n",
              "\n",
              "    .dataframe thead th {\n",
              "        text-align: right;\n",
              "    }\n",
              "</style>\n",
              "<table border=\"1\" class=\"dataframe\">\n",
              "  <thead>\n",
              "    <tr style=\"text-align: right;\">\n",
              "      <th></th>\n",
              "      <th>Unnamed: 0</th>\n",
              "      <th>user_id</th>\n",
              "      <th>checkout_page</th>\n",
              "      <th>order_value</th>\n",
              "      <th>purchased</th>\n",
              "      <th>gender</th>\n",
              "      <th>browser</th>\n",
              "      <th>time_on_page</th>\n",
              "    </tr>\n",
              "  </thead>\n",
              "  <tbody>\n",
              "    <tr>\n",
              "      <th>0</th>\n",
              "      <td>0</td>\n",
              "      <td>877621</td>\n",
              "      <td>A</td>\n",
              "      <td>29.410131</td>\n",
              "      <td>1.0</td>\n",
              "      <td>F</td>\n",
              "      <td>chrome</td>\n",
              "      <td>66.168628</td>\n",
              "    </tr>\n",
              "    <tr>\n",
              "      <th>1</th>\n",
              "      <td>1</td>\n",
              "      <td>876599</td>\n",
              "      <td>A</td>\n",
              "      <td>NaN</td>\n",
              "      <td>0.0</td>\n",
              "      <td>M</td>\n",
              "      <td>firefox</td>\n",
              "      <td>49.801887</td>\n",
              "    </tr>\n",
              "    <tr>\n",
              "      <th>2</th>\n",
              "      <td>2</td>\n",
              "      <td>905407</td>\n",
              "      <td>A</td>\n",
              "      <td>27.446845</td>\n",
              "      <td>1.0</td>\n",
              "      <td>M</td>\n",
              "      <td>chrome</td>\n",
              "      <td>56.744856</td>\n",
              "    </tr>\n",
              "    <tr>\n",
              "      <th>3</th>\n",
              "      <td>3</td>\n",
              "      <td>883562</td>\n",
              "      <td>A</td>\n",
              "      <td>30.602233</td>\n",
              "      <td>1.0</td>\n",
              "      <td>M</td>\n",
              "      <td>safari</td>\n",
              "      <td>71.890718</td>\n",
              "    </tr>\n",
              "    <tr>\n",
              "      <th>4</th>\n",
              "      <td>4</td>\n",
              "      <td>840542</td>\n",
              "      <td>A</td>\n",
              "      <td>29.668895</td>\n",
              "      <td>1.0</td>\n",
              "      <td>F</td>\n",
              "      <td>safari</td>\n",
              "      <td>67.410696</td>\n",
              "    </tr>\n",
              "  </tbody>\n",
              "</table>\n",
              "</div>\n",
              "    <div class=\"colab-df-buttons\">\n",
              "\n",
              "  <div class=\"colab-df-container\">\n",
              "    <button class=\"colab-df-convert\" onclick=\"convertToInteractive('df-41f96f27-ea6c-4420-8a14-d409a0543c1e')\"\n",
              "            title=\"Convert this dataframe to an interactive table.\"\n",
              "            style=\"display:none;\">\n",
              "\n",
              "  <svg xmlns=\"http://www.w3.org/2000/svg\" height=\"24px\" viewBox=\"0 -960 960 960\">\n",
              "    <path d=\"M120-120v-720h720v720H120Zm60-500h600v-160H180v160Zm220 220h160v-160H400v160Zm0 220h160v-160H400v160ZM180-400h160v-160H180v160Zm440 0h160v-160H620v160ZM180-180h160v-160H180v160Zm440 0h160v-160H620v160Z\"/>\n",
              "  </svg>\n",
              "    </button>\n",
              "\n",
              "  <style>\n",
              "    .colab-df-container {\n",
              "      display:flex;\n",
              "      gap: 12px;\n",
              "    }\n",
              "\n",
              "    .colab-df-convert {\n",
              "      background-color: #E8F0FE;\n",
              "      border: none;\n",
              "      border-radius: 50%;\n",
              "      cursor: pointer;\n",
              "      display: none;\n",
              "      fill: #1967D2;\n",
              "      height: 32px;\n",
              "      padding: 0 0 0 0;\n",
              "      width: 32px;\n",
              "    }\n",
              "\n",
              "    .colab-df-convert:hover {\n",
              "      background-color: #E2EBFA;\n",
              "      box-shadow: 0px 1px 2px rgba(60, 64, 67, 0.3), 0px 1px 3px 1px rgba(60, 64, 67, 0.15);\n",
              "      fill: #174EA6;\n",
              "    }\n",
              "\n",
              "    .colab-df-buttons div {\n",
              "      margin-bottom: 4px;\n",
              "    }\n",
              "\n",
              "    [theme=dark] .colab-df-convert {\n",
              "      background-color: #3B4455;\n",
              "      fill: #D2E3FC;\n",
              "    }\n",
              "\n",
              "    [theme=dark] .colab-df-convert:hover {\n",
              "      background-color: #434B5C;\n",
              "      box-shadow: 0px 1px 3px 1px rgba(0, 0, 0, 0.15);\n",
              "      filter: drop-shadow(0px 1px 2px rgba(0, 0, 0, 0.3));\n",
              "      fill: #FFFFFF;\n",
              "    }\n",
              "  </style>\n",
              "\n",
              "    <script>\n",
              "      const buttonEl =\n",
              "        document.querySelector('#df-41f96f27-ea6c-4420-8a14-d409a0543c1e button.colab-df-convert');\n",
              "      buttonEl.style.display =\n",
              "        google.colab.kernel.accessAllowed ? 'block' : 'none';\n",
              "\n",
              "      async function convertToInteractive(key) {\n",
              "        const element = document.querySelector('#df-41f96f27-ea6c-4420-8a14-d409a0543c1e');\n",
              "        const dataTable =\n",
              "          await google.colab.kernel.invokeFunction('convertToInteractive',\n",
              "                                                    [key], {});\n",
              "        if (!dataTable) return;\n",
              "\n",
              "        const docLinkHtml = 'Like what you see? Visit the ' +\n",
              "          '<a target=\"_blank\" href=https://colab.research.google.com/notebooks/data_table.ipynb>data table notebook</a>'\n",
              "          + ' to learn more about interactive tables.';\n",
              "        element.innerHTML = '';\n",
              "        dataTable['output_type'] = 'display_data';\n",
              "        await google.colab.output.renderOutput(dataTable, element);\n",
              "        const docLink = document.createElement('div');\n",
              "        docLink.innerHTML = docLinkHtml;\n",
              "        element.appendChild(docLink);\n",
              "      }\n",
              "    </script>\n",
              "  </div>\n",
              "\n",
              "\n",
              "<div id=\"df-870a9cbf-9144-4836-9e38-f4d91712328a\">\n",
              "  <button class=\"colab-df-quickchart\" onclick=\"quickchart('df-870a9cbf-9144-4836-9e38-f4d91712328a')\"\n",
              "            title=\"Suggest charts\"\n",
              "            style=\"display:none;\">\n",
              "\n",
              "<svg xmlns=\"http://www.w3.org/2000/svg\" height=\"24px\"viewBox=\"0 0 24 24\"\n",
              "     width=\"24px\">\n",
              "    <g>\n",
              "        <path d=\"M19 3H5c-1.1 0-2 .9-2 2v14c0 1.1.9 2 2 2h14c1.1 0 2-.9 2-2V5c0-1.1-.9-2-2-2zM9 17H7v-7h2v7zm4 0h-2V7h2v10zm4 0h-2v-4h2v4z\"/>\n",
              "    </g>\n",
              "</svg>\n",
              "  </button>\n",
              "\n",
              "<style>\n",
              "  .colab-df-quickchart {\n",
              "      --bg-color: #E8F0FE;\n",
              "      --fill-color: #1967D2;\n",
              "      --hover-bg-color: #E2EBFA;\n",
              "      --hover-fill-color: #174EA6;\n",
              "      --disabled-fill-color: #AAA;\n",
              "      --disabled-bg-color: #DDD;\n",
              "  }\n",
              "\n",
              "  [theme=dark] .colab-df-quickchart {\n",
              "      --bg-color: #3B4455;\n",
              "      --fill-color: #D2E3FC;\n",
              "      --hover-bg-color: #434B5C;\n",
              "      --hover-fill-color: #FFFFFF;\n",
              "      --disabled-bg-color: #3B4455;\n",
              "      --disabled-fill-color: #666;\n",
              "  }\n",
              "\n",
              "  .colab-df-quickchart {\n",
              "    background-color: var(--bg-color);\n",
              "    border: none;\n",
              "    border-radius: 50%;\n",
              "    cursor: pointer;\n",
              "    display: none;\n",
              "    fill: var(--fill-color);\n",
              "    height: 32px;\n",
              "    padding: 0;\n",
              "    width: 32px;\n",
              "  }\n",
              "\n",
              "  .colab-df-quickchart:hover {\n",
              "    background-color: var(--hover-bg-color);\n",
              "    box-shadow: 0 1px 2px rgba(60, 64, 67, 0.3), 0 1px 3px 1px rgba(60, 64, 67, 0.15);\n",
              "    fill: var(--button-hover-fill-color);\n",
              "  }\n",
              "\n",
              "  .colab-df-quickchart-complete:disabled,\n",
              "  .colab-df-quickchart-complete:disabled:hover {\n",
              "    background-color: var(--disabled-bg-color);\n",
              "    fill: var(--disabled-fill-color);\n",
              "    box-shadow: none;\n",
              "  }\n",
              "\n",
              "  .colab-df-spinner {\n",
              "    border: 2px solid var(--fill-color);\n",
              "    border-color: transparent;\n",
              "    border-bottom-color: var(--fill-color);\n",
              "    animation:\n",
              "      spin 1s steps(1) infinite;\n",
              "  }\n",
              "\n",
              "  @keyframes spin {\n",
              "    0% {\n",
              "      border-color: transparent;\n",
              "      border-bottom-color: var(--fill-color);\n",
              "      border-left-color: var(--fill-color);\n",
              "    }\n",
              "    20% {\n",
              "      border-color: transparent;\n",
              "      border-left-color: var(--fill-color);\n",
              "      border-top-color: var(--fill-color);\n",
              "    }\n",
              "    30% {\n",
              "      border-color: transparent;\n",
              "      border-left-color: var(--fill-color);\n",
              "      border-top-color: var(--fill-color);\n",
              "      border-right-color: var(--fill-color);\n",
              "    }\n",
              "    40% {\n",
              "      border-color: transparent;\n",
              "      border-right-color: var(--fill-color);\n",
              "      border-top-color: var(--fill-color);\n",
              "    }\n",
              "    60% {\n",
              "      border-color: transparent;\n",
              "      border-right-color: var(--fill-color);\n",
              "    }\n",
              "    80% {\n",
              "      border-color: transparent;\n",
              "      border-right-color: var(--fill-color);\n",
              "      border-bottom-color: var(--fill-color);\n",
              "    }\n",
              "    90% {\n",
              "      border-color: transparent;\n",
              "      border-bottom-color: var(--fill-color);\n",
              "    }\n",
              "  }\n",
              "</style>\n",
              "\n",
              "  <script>\n",
              "    async function quickchart(key) {\n",
              "      const quickchartButtonEl =\n",
              "        document.querySelector('#' + key + ' button');\n",
              "      quickchartButtonEl.disabled = true;  // To prevent multiple clicks.\n",
              "      quickchartButtonEl.classList.add('colab-df-spinner');\n",
              "      try {\n",
              "        const charts = await google.colab.kernel.invokeFunction(\n",
              "            'suggestCharts', [key], {});\n",
              "      } catch (error) {\n",
              "        console.error('Error during call to suggestCharts:', error);\n",
              "      }\n",
              "      quickchartButtonEl.classList.remove('colab-df-spinner');\n",
              "      quickchartButtonEl.classList.add('colab-df-quickchart-complete');\n",
              "    }\n",
              "    (() => {\n",
              "      let quickchartButtonEl =\n",
              "        document.querySelector('#df-870a9cbf-9144-4836-9e38-f4d91712328a button');\n",
              "      quickchartButtonEl.style.display =\n",
              "        google.colab.kernel.accessAllowed ? 'block' : 'none';\n",
              "    })();\n",
              "  </script>\n",
              "</div>\n",
              "\n",
              "    </div>\n",
              "  </div>\n"
            ],
            "application/vnd.google.colaboratory.intrinsic+json": {
              "type": "dataframe",
              "variable_name": "checkout",
              "summary": "{\n  \"name\": \"checkout\",\n  \"rows\": 9000,\n  \"fields\": [\n    {\n      \"column\": \"Unnamed: 0\",\n      \"properties\": {\n        \"dtype\": \"number\",\n        \"std\": 2598,\n        \"min\": 0,\n        \"max\": 8999,\n        \"num_unique_values\": 9000,\n        \"samples\": [\n          7940,\n          1162,\n          582\n        ],\n        \"semantic_type\": \"\",\n        \"description\": \"\"\n      }\n    },\n    {\n      \"column\": \"user_id\",\n      \"properties\": {\n        \"dtype\": \"number\",\n        \"std\": 23152,\n        \"min\": 834528,\n        \"max\": 914582,\n        \"num_unique_values\": 8493,\n        \"samples\": [\n          879265,\n          865899,\n          841807\n        ],\n        \"semantic_type\": \"\",\n        \"description\": \"\"\n      }\n    },\n    {\n      \"column\": \"checkout_page\",\n      \"properties\": {\n        \"dtype\": \"category\",\n        \"num_unique_values\": 3,\n        \"samples\": [\n          \"A\",\n          \"B\",\n          \"C\"\n        ],\n        \"semantic_type\": \"\",\n        \"description\": \"\"\n      }\n    },\n    {\n      \"column\": \"order_value\",\n      \"properties\": {\n        \"dtype\": \"number\",\n        \"std\": 6.649486326038882,\n        \"min\": 6.623575563006554,\n        \"max\": 51.96822181322897,\n        \"num_unique_values\": 7605,\n        \"samples\": [\n          26.92462730098089,\n          26.63981102843125,\n          31.72227485257821\n        ],\n        \"semantic_type\": \"\",\n        \"description\": \"\"\n      }\n    },\n    {\n      \"column\": \"purchased\",\n      \"properties\": {\n        \"dtype\": \"number\",\n        \"std\": 0.36192479107535885,\n        \"min\": 0.0,\n        \"max\": 1.0,\n        \"num_unique_values\": 2,\n        \"samples\": [\n          0.0,\n          1.0\n        ],\n        \"semantic_type\": \"\",\n        \"description\": \"\"\n      }\n    },\n    {\n      \"column\": \"gender\",\n      \"properties\": {\n        \"dtype\": \"category\",\n        \"num_unique_values\": 2,\n        \"samples\": [\n          \"M\",\n          \"F\"\n        ],\n        \"semantic_type\": \"\",\n        \"description\": \"\"\n      }\n    },\n    {\n      \"column\": \"browser\",\n      \"properties\": {\n        \"dtype\": \"category\",\n        \"num_unique_values\": 3,\n        \"samples\": [\n          \"chrome\",\n          \"firefox\"\n        ],\n        \"semantic_type\": \"\",\n        \"description\": \"\"\n      }\n    },\n    {\n      \"column\": \"time_on_page\",\n      \"properties\": {\n        \"dtype\": \"number\",\n        \"std\": 10.444231518683948,\n        \"min\": 7.5977209008104865,\n        \"max\": 83.05169727948216,\n        \"num_unique_values\": 9000,\n        \"samples\": [\n          51.233118360704125,\n          56.23354977973299\n        ],\n        \"semantic_type\": \"\",\n        \"description\": \"\"\n      }\n    }\n  ]\n}"
            }
          },
          "metadata": {},
          "execution_count": 4
        }
      ]
    },
    {
      "cell_type": "code",
      "source": [
        "checkout.info()"
      ],
      "metadata": {
        "colab": {
          "base_uri": "https://localhost:8080/"
        },
        "id": "lH-UKBZYLRev",
        "outputId": "c8a778d0-c463-450e-946b-d0cd749b2909"
      },
      "execution_count": null,
      "outputs": [
        {
          "output_type": "stream",
          "name": "stdout",
          "text": [
            "<class 'pandas.core.frame.DataFrame'>\n",
            "RangeIndex: 9000 entries, 0 to 8999\n",
            "Data columns (total 8 columns):\n",
            " #   Column         Non-Null Count  Dtype  \n",
            "---  ------         --------------  -----  \n",
            " 0   Unnamed: 0     9000 non-null   int64  \n",
            " 1   user_id        9000 non-null   int64  \n",
            " 2   checkout_page  9000 non-null   object \n",
            " 3   order_value    7605 non-null   float64\n",
            " 4   purchased      9000 non-null   float64\n",
            " 5   gender         9000 non-null   object \n",
            " 6   browser        9000 non-null   object \n",
            " 7   time_on_page   9000 non-null   float64\n",
            "dtypes: float64(3), int64(2), object(3)\n",
            "memory usage: 562.6+ KB\n"
          ]
        }
      ]
    },
    {
      "cell_type": "markdown",
      "source": [
        "**OBSERVATIONS:**\n",
        "\n",
        "NaN values represent missing data, which typically means that the user did not place an order. Filling the NaN values in the order_value column with zeros would alter the mean of the column, as well as other statistical properties."
      ],
      "metadata": {
        "id": "V_BqoYyuRFRp"
      }
    },
    {
      "cell_type": "markdown",
      "source": [
        "TO DROP IRRELEVANT COLUMN"
      ],
      "metadata": {
        "id": "rAQJbCejm1lH"
      }
    },
    {
      "cell_type": "code",
      "source": [
        "checkout = checkout.drop('Unnamed: 0', axis=1)"
      ],
      "metadata": {
        "id": "qt67IC49mTwQ"
      },
      "execution_count": null,
      "outputs": []
    },
    {
      "cell_type": "code",
      "source": [
        "checkout.head()"
      ],
      "metadata": {
        "colab": {
          "base_uri": "https://localhost:8080/",
          "height": 206
        },
        "id": "2n_NTx3HmvrB",
        "outputId": "cd686333-7e22-41f4-fe35-c6b0b6acf881"
      },
      "execution_count": null,
      "outputs": [
        {
          "output_type": "execute_result",
          "data": {
            "text/plain": [
              "   user_id checkout_page  order_value  purchased gender  browser  time_on_page\n",
              "0   877621             A    29.410131        1.0      F   chrome     66.168628\n",
              "1   876599             A          NaN        0.0      M  firefox     49.801887\n",
              "2   905407             A    27.446845        1.0      M   chrome     56.744856\n",
              "3   883562             A    30.602233        1.0      M   safari     71.890718\n",
              "4   840542             A    29.668895        1.0      F   safari     67.410696"
            ],
            "text/html": [
              "\n",
              "  <div id=\"df-0a3519bc-f1b3-4af8-b2ed-12e9758ac896\" class=\"colab-df-container\">\n",
              "    <div>\n",
              "<style scoped>\n",
              "    .dataframe tbody tr th:only-of-type {\n",
              "        vertical-align: middle;\n",
              "    }\n",
              "\n",
              "    .dataframe tbody tr th {\n",
              "        vertical-align: top;\n",
              "    }\n",
              "\n",
              "    .dataframe thead th {\n",
              "        text-align: right;\n",
              "    }\n",
              "</style>\n",
              "<table border=\"1\" class=\"dataframe\">\n",
              "  <thead>\n",
              "    <tr style=\"text-align: right;\">\n",
              "      <th></th>\n",
              "      <th>user_id</th>\n",
              "      <th>checkout_page</th>\n",
              "      <th>order_value</th>\n",
              "      <th>purchased</th>\n",
              "      <th>gender</th>\n",
              "      <th>browser</th>\n",
              "      <th>time_on_page</th>\n",
              "    </tr>\n",
              "  </thead>\n",
              "  <tbody>\n",
              "    <tr>\n",
              "      <th>0</th>\n",
              "      <td>877621</td>\n",
              "      <td>A</td>\n",
              "      <td>29.410131</td>\n",
              "      <td>1.0</td>\n",
              "      <td>F</td>\n",
              "      <td>chrome</td>\n",
              "      <td>66.168628</td>\n",
              "    </tr>\n",
              "    <tr>\n",
              "      <th>1</th>\n",
              "      <td>876599</td>\n",
              "      <td>A</td>\n",
              "      <td>NaN</td>\n",
              "      <td>0.0</td>\n",
              "      <td>M</td>\n",
              "      <td>firefox</td>\n",
              "      <td>49.801887</td>\n",
              "    </tr>\n",
              "    <tr>\n",
              "      <th>2</th>\n",
              "      <td>905407</td>\n",
              "      <td>A</td>\n",
              "      <td>27.446845</td>\n",
              "      <td>1.0</td>\n",
              "      <td>M</td>\n",
              "      <td>chrome</td>\n",
              "      <td>56.744856</td>\n",
              "    </tr>\n",
              "    <tr>\n",
              "      <th>3</th>\n",
              "      <td>883562</td>\n",
              "      <td>A</td>\n",
              "      <td>30.602233</td>\n",
              "      <td>1.0</td>\n",
              "      <td>M</td>\n",
              "      <td>safari</td>\n",
              "      <td>71.890718</td>\n",
              "    </tr>\n",
              "    <tr>\n",
              "      <th>4</th>\n",
              "      <td>840542</td>\n",
              "      <td>A</td>\n",
              "      <td>29.668895</td>\n",
              "      <td>1.0</td>\n",
              "      <td>F</td>\n",
              "      <td>safari</td>\n",
              "      <td>67.410696</td>\n",
              "    </tr>\n",
              "  </tbody>\n",
              "</table>\n",
              "</div>\n",
              "    <div class=\"colab-df-buttons\">\n",
              "\n",
              "  <div class=\"colab-df-container\">\n",
              "    <button class=\"colab-df-convert\" onclick=\"convertToInteractive('df-0a3519bc-f1b3-4af8-b2ed-12e9758ac896')\"\n",
              "            title=\"Convert this dataframe to an interactive table.\"\n",
              "            style=\"display:none;\">\n",
              "\n",
              "  <svg xmlns=\"http://www.w3.org/2000/svg\" height=\"24px\" viewBox=\"0 -960 960 960\">\n",
              "    <path d=\"M120-120v-720h720v720H120Zm60-500h600v-160H180v160Zm220 220h160v-160H400v160Zm0 220h160v-160H400v160ZM180-400h160v-160H180v160Zm440 0h160v-160H620v160ZM180-180h160v-160H180v160Zm440 0h160v-160H620v160Z\"/>\n",
              "  </svg>\n",
              "    </button>\n",
              "\n",
              "  <style>\n",
              "    .colab-df-container {\n",
              "      display:flex;\n",
              "      gap: 12px;\n",
              "    }\n",
              "\n",
              "    .colab-df-convert {\n",
              "      background-color: #E8F0FE;\n",
              "      border: none;\n",
              "      border-radius: 50%;\n",
              "      cursor: pointer;\n",
              "      display: none;\n",
              "      fill: #1967D2;\n",
              "      height: 32px;\n",
              "      padding: 0 0 0 0;\n",
              "      width: 32px;\n",
              "    }\n",
              "\n",
              "    .colab-df-convert:hover {\n",
              "      background-color: #E2EBFA;\n",
              "      box-shadow: 0px 1px 2px rgba(60, 64, 67, 0.3), 0px 1px 3px 1px rgba(60, 64, 67, 0.15);\n",
              "      fill: #174EA6;\n",
              "    }\n",
              "\n",
              "    .colab-df-buttons div {\n",
              "      margin-bottom: 4px;\n",
              "    }\n",
              "\n",
              "    [theme=dark] .colab-df-convert {\n",
              "      background-color: #3B4455;\n",
              "      fill: #D2E3FC;\n",
              "    }\n",
              "\n",
              "    [theme=dark] .colab-df-convert:hover {\n",
              "      background-color: #434B5C;\n",
              "      box-shadow: 0px 1px 3px 1px rgba(0, 0, 0, 0.15);\n",
              "      filter: drop-shadow(0px 1px 2px rgba(0, 0, 0, 0.3));\n",
              "      fill: #FFFFFF;\n",
              "    }\n",
              "  </style>\n",
              "\n",
              "    <script>\n",
              "      const buttonEl =\n",
              "        document.querySelector('#df-0a3519bc-f1b3-4af8-b2ed-12e9758ac896 button.colab-df-convert');\n",
              "      buttonEl.style.display =\n",
              "        google.colab.kernel.accessAllowed ? 'block' : 'none';\n",
              "\n",
              "      async function convertToInteractive(key) {\n",
              "        const element = document.querySelector('#df-0a3519bc-f1b3-4af8-b2ed-12e9758ac896');\n",
              "        const dataTable =\n",
              "          await google.colab.kernel.invokeFunction('convertToInteractive',\n",
              "                                                    [key], {});\n",
              "        if (!dataTable) return;\n",
              "\n",
              "        const docLinkHtml = 'Like what you see? Visit the ' +\n",
              "          '<a target=\"_blank\" href=https://colab.research.google.com/notebooks/data_table.ipynb>data table notebook</a>'\n",
              "          + ' to learn more about interactive tables.';\n",
              "        element.innerHTML = '';\n",
              "        dataTable['output_type'] = 'display_data';\n",
              "        await google.colab.output.renderOutput(dataTable, element);\n",
              "        const docLink = document.createElement('div');\n",
              "        docLink.innerHTML = docLinkHtml;\n",
              "        element.appendChild(docLink);\n",
              "      }\n",
              "    </script>\n",
              "  </div>\n",
              "\n",
              "\n",
              "<div id=\"df-25f96b2d-7f00-4b76-b265-d55d4dadea47\">\n",
              "  <button class=\"colab-df-quickchart\" onclick=\"quickchart('df-25f96b2d-7f00-4b76-b265-d55d4dadea47')\"\n",
              "            title=\"Suggest charts\"\n",
              "            style=\"display:none;\">\n",
              "\n",
              "<svg xmlns=\"http://www.w3.org/2000/svg\" height=\"24px\"viewBox=\"0 0 24 24\"\n",
              "     width=\"24px\">\n",
              "    <g>\n",
              "        <path d=\"M19 3H5c-1.1 0-2 .9-2 2v14c0 1.1.9 2 2 2h14c1.1 0 2-.9 2-2V5c0-1.1-.9-2-2-2zM9 17H7v-7h2v7zm4 0h-2V7h2v10zm4 0h-2v-4h2v4z\"/>\n",
              "    </g>\n",
              "</svg>\n",
              "  </button>\n",
              "\n",
              "<style>\n",
              "  .colab-df-quickchart {\n",
              "      --bg-color: #E8F0FE;\n",
              "      --fill-color: #1967D2;\n",
              "      --hover-bg-color: #E2EBFA;\n",
              "      --hover-fill-color: #174EA6;\n",
              "      --disabled-fill-color: #AAA;\n",
              "      --disabled-bg-color: #DDD;\n",
              "  }\n",
              "\n",
              "  [theme=dark] .colab-df-quickchart {\n",
              "      --bg-color: #3B4455;\n",
              "      --fill-color: #D2E3FC;\n",
              "      --hover-bg-color: #434B5C;\n",
              "      --hover-fill-color: #FFFFFF;\n",
              "      --disabled-bg-color: #3B4455;\n",
              "      --disabled-fill-color: #666;\n",
              "  }\n",
              "\n",
              "  .colab-df-quickchart {\n",
              "    background-color: var(--bg-color);\n",
              "    border: none;\n",
              "    border-radius: 50%;\n",
              "    cursor: pointer;\n",
              "    display: none;\n",
              "    fill: var(--fill-color);\n",
              "    height: 32px;\n",
              "    padding: 0;\n",
              "    width: 32px;\n",
              "  }\n",
              "\n",
              "  .colab-df-quickchart:hover {\n",
              "    background-color: var(--hover-bg-color);\n",
              "    box-shadow: 0 1px 2px rgba(60, 64, 67, 0.3), 0 1px 3px 1px rgba(60, 64, 67, 0.15);\n",
              "    fill: var(--button-hover-fill-color);\n",
              "  }\n",
              "\n",
              "  .colab-df-quickchart-complete:disabled,\n",
              "  .colab-df-quickchart-complete:disabled:hover {\n",
              "    background-color: var(--disabled-bg-color);\n",
              "    fill: var(--disabled-fill-color);\n",
              "    box-shadow: none;\n",
              "  }\n",
              "\n",
              "  .colab-df-spinner {\n",
              "    border: 2px solid var(--fill-color);\n",
              "    border-color: transparent;\n",
              "    border-bottom-color: var(--fill-color);\n",
              "    animation:\n",
              "      spin 1s steps(1) infinite;\n",
              "  }\n",
              "\n",
              "  @keyframes spin {\n",
              "    0% {\n",
              "      border-color: transparent;\n",
              "      border-bottom-color: var(--fill-color);\n",
              "      border-left-color: var(--fill-color);\n",
              "    }\n",
              "    20% {\n",
              "      border-color: transparent;\n",
              "      border-left-color: var(--fill-color);\n",
              "      border-top-color: var(--fill-color);\n",
              "    }\n",
              "    30% {\n",
              "      border-color: transparent;\n",
              "      border-left-color: var(--fill-color);\n",
              "      border-top-color: var(--fill-color);\n",
              "      border-right-color: var(--fill-color);\n",
              "    }\n",
              "    40% {\n",
              "      border-color: transparent;\n",
              "      border-right-color: var(--fill-color);\n",
              "      border-top-color: var(--fill-color);\n",
              "    }\n",
              "    60% {\n",
              "      border-color: transparent;\n",
              "      border-right-color: var(--fill-color);\n",
              "    }\n",
              "    80% {\n",
              "      border-color: transparent;\n",
              "      border-right-color: var(--fill-color);\n",
              "      border-bottom-color: var(--fill-color);\n",
              "    }\n",
              "    90% {\n",
              "      border-color: transparent;\n",
              "      border-bottom-color: var(--fill-color);\n",
              "    }\n",
              "  }\n",
              "</style>\n",
              "\n",
              "  <script>\n",
              "    async function quickchart(key) {\n",
              "      const quickchartButtonEl =\n",
              "        document.querySelector('#' + key + ' button');\n",
              "      quickchartButtonEl.disabled = true;  // To prevent multiple clicks.\n",
              "      quickchartButtonEl.classList.add('colab-df-spinner');\n",
              "      try {\n",
              "        const charts = await google.colab.kernel.invokeFunction(\n",
              "            'suggestCharts', [key], {});\n",
              "      } catch (error) {\n",
              "        console.error('Error during call to suggestCharts:', error);\n",
              "      }\n",
              "      quickchartButtonEl.classList.remove('colab-df-spinner');\n",
              "      quickchartButtonEl.classList.add('colab-df-quickchart-complete');\n",
              "    }\n",
              "    (() => {\n",
              "      let quickchartButtonEl =\n",
              "        document.querySelector('#df-25f96b2d-7f00-4b76-b265-d55d4dadea47 button');\n",
              "      quickchartButtonEl.style.display =\n",
              "        google.colab.kernel.accessAllowed ? 'block' : 'none';\n",
              "    })();\n",
              "  </script>\n",
              "</div>\n",
              "\n",
              "    </div>\n",
              "  </div>\n"
            ],
            "application/vnd.google.colaboratory.intrinsic+json": {
              "type": "dataframe",
              "variable_name": "checkout",
              "summary": "{\n  \"name\": \"checkout\",\n  \"rows\": 9000,\n  \"fields\": [\n    {\n      \"column\": \"user_id\",\n      \"properties\": {\n        \"dtype\": \"number\",\n        \"std\": 23152,\n        \"min\": 834528,\n        \"max\": 914582,\n        \"num_unique_values\": 8493,\n        \"samples\": [\n          879265,\n          865899,\n          841807\n        ],\n        \"semantic_type\": \"\",\n        \"description\": \"\"\n      }\n    },\n    {\n      \"column\": \"checkout_page\",\n      \"properties\": {\n        \"dtype\": \"category\",\n        \"num_unique_values\": 3,\n        \"samples\": [\n          \"A\",\n          \"B\",\n          \"C\"\n        ],\n        \"semantic_type\": \"\",\n        \"description\": \"\"\n      }\n    },\n    {\n      \"column\": \"order_value\",\n      \"properties\": {\n        \"dtype\": \"number\",\n        \"std\": 6.649486326038882,\n        \"min\": 6.623575563006554,\n        \"max\": 51.96822181322897,\n        \"num_unique_values\": 7605,\n        \"samples\": [\n          26.92462730098089,\n          26.63981102843125,\n          31.72227485257821\n        ],\n        \"semantic_type\": \"\",\n        \"description\": \"\"\n      }\n    },\n    {\n      \"column\": \"purchased\",\n      \"properties\": {\n        \"dtype\": \"number\",\n        \"std\": 0.36192479107535885,\n        \"min\": 0.0,\n        \"max\": 1.0,\n        \"num_unique_values\": 2,\n        \"samples\": [\n          0.0,\n          1.0\n        ],\n        \"semantic_type\": \"\",\n        \"description\": \"\"\n      }\n    },\n    {\n      \"column\": \"gender\",\n      \"properties\": {\n        \"dtype\": \"category\",\n        \"num_unique_values\": 2,\n        \"samples\": [\n          \"M\",\n          \"F\"\n        ],\n        \"semantic_type\": \"\",\n        \"description\": \"\"\n      }\n    },\n    {\n      \"column\": \"browser\",\n      \"properties\": {\n        \"dtype\": \"category\",\n        \"num_unique_values\": 3,\n        \"samples\": [\n          \"chrome\",\n          \"firefox\"\n        ],\n        \"semantic_type\": \"\",\n        \"description\": \"\"\n      }\n    },\n    {\n      \"column\": \"time_on_page\",\n      \"properties\": {\n        \"dtype\": \"number\",\n        \"std\": 10.444231518683948,\n        \"min\": 7.5977209008104865,\n        \"max\": 83.05169727948216,\n        \"num_unique_values\": 9000,\n        \"samples\": [\n          51.233118360704125,\n          56.23354977973299\n        ],\n        \"semantic_type\": \"\",\n        \"description\": \"\"\n      }\n    }\n  ]\n}"
            }
          },
          "metadata": {},
          "execution_count": 7
        }
      ]
    },
    {
      "cell_type": "code",
      "source": [
        "checkout['gender'].value_counts(normalize=True)"
      ],
      "metadata": {
        "colab": {
          "base_uri": "https://localhost:8080/",
          "height": 178
        },
        "id": "aBKBqUiELaOm",
        "outputId": "4b81c9df-a6e8-4db4-b95a-a6c76adcfdd4"
      },
      "execution_count": null,
      "outputs": [
        {
          "output_type": "execute_result",
          "data": {
            "text/plain": [
              "gender\n",
              "F    0.507556\n",
              "M    0.492444\n",
              "Name: proportion, dtype: float64"
            ],
            "text/html": [
              "<div>\n",
              "<style scoped>\n",
              "    .dataframe tbody tr th:only-of-type {\n",
              "        vertical-align: middle;\n",
              "    }\n",
              "\n",
              "    .dataframe tbody tr th {\n",
              "        vertical-align: top;\n",
              "    }\n",
              "\n",
              "    .dataframe thead th {\n",
              "        text-align: right;\n",
              "    }\n",
              "</style>\n",
              "<table border=\"1\" class=\"dataframe\">\n",
              "  <thead>\n",
              "    <tr style=\"text-align: right;\">\n",
              "      <th></th>\n",
              "      <th>proportion</th>\n",
              "    </tr>\n",
              "    <tr>\n",
              "      <th>gender</th>\n",
              "      <th></th>\n",
              "    </tr>\n",
              "  </thead>\n",
              "  <tbody>\n",
              "    <tr>\n",
              "      <th>F</th>\n",
              "      <td>0.507556</td>\n",
              "    </tr>\n",
              "    <tr>\n",
              "      <th>M</th>\n",
              "      <td>0.492444</td>\n",
              "    </tr>\n",
              "  </tbody>\n",
              "</table>\n",
              "</div><br><label><b>dtype:</b> float64</label>"
            ]
          },
          "metadata": {},
          "execution_count": 8
        }
      ]
    },
    {
      "cell_type": "markdown",
      "source": [
        "TAKING A SAMPLE TO CHECK PROPORTIONS"
      ],
      "metadata": {
        "id": "QbY96ugHMOQu"
      }
    },
    {
      "cell_type": "code",
      "source": [
        "sample_df = checkout.sample(3000)\n",
        "sample_df['gender'].value_counts(normalize=True)"
      ],
      "metadata": {
        "colab": {
          "base_uri": "https://localhost:8080/",
          "height": 178
        },
        "id": "scW1VaLuLpSr",
        "outputId": "6d93c3ee-0266-4d44-f0d9-30dad38603e0"
      },
      "execution_count": null,
      "outputs": [
        {
          "output_type": "execute_result",
          "data": {
            "text/plain": [
              "gender\n",
              "F    0.505667\n",
              "M    0.494333\n",
              "Name: proportion, dtype: float64"
            ],
            "text/html": [
              "<div>\n",
              "<style scoped>\n",
              "    .dataframe tbody tr th:only-of-type {\n",
              "        vertical-align: middle;\n",
              "    }\n",
              "\n",
              "    .dataframe tbody tr th {\n",
              "        vertical-align: top;\n",
              "    }\n",
              "\n",
              "    .dataframe thead th {\n",
              "        text-align: right;\n",
              "    }\n",
              "</style>\n",
              "<table border=\"1\" class=\"dataframe\">\n",
              "  <thead>\n",
              "    <tr style=\"text-align: right;\">\n",
              "      <th></th>\n",
              "      <th>proportion</th>\n",
              "    </tr>\n",
              "    <tr>\n",
              "      <th>gender</th>\n",
              "      <th></th>\n",
              "    </tr>\n",
              "  </thead>\n",
              "  <tbody>\n",
              "    <tr>\n",
              "      <th>F</th>\n",
              "      <td>0.505667</td>\n",
              "    </tr>\n",
              "    <tr>\n",
              "      <th>M</th>\n",
              "      <td>0.494333</td>\n",
              "    </tr>\n",
              "  </tbody>\n",
              "</table>\n",
              "</div><br><label><b>dtype:</b> float64</label>"
            ]
          },
          "metadata": {},
          "execution_count": 9
        }
      ]
    },
    {
      "cell_type": "code",
      "source": [
        "checkout.groupby('checkout_page')['gender'].value_counts(normalize=True)"
      ],
      "metadata": {
        "colab": {
          "base_uri": "https://localhost:8080/",
          "height": 303
        },
        "id": "I_frMXmsMEJm",
        "outputId": "8c376187-d41d-4de7-bb1f-997074b786c9"
      },
      "execution_count": null,
      "outputs": [
        {
          "output_type": "execute_result",
          "data": {
            "text/plain": [
              "checkout_page  gender\n",
              "A              M         0.505000\n",
              "               F         0.495000\n",
              "B              F         0.507333\n",
              "               M         0.492667\n",
              "C              F         0.520333\n",
              "               M         0.479667\n",
              "Name: proportion, dtype: float64"
            ],
            "text/html": [
              "<div>\n",
              "<style scoped>\n",
              "    .dataframe tbody tr th:only-of-type {\n",
              "        vertical-align: middle;\n",
              "    }\n",
              "\n",
              "    .dataframe tbody tr th {\n",
              "        vertical-align: top;\n",
              "    }\n",
              "\n",
              "    .dataframe thead th {\n",
              "        text-align: right;\n",
              "    }\n",
              "</style>\n",
              "<table border=\"1\" class=\"dataframe\">\n",
              "  <thead>\n",
              "    <tr style=\"text-align: right;\">\n",
              "      <th></th>\n",
              "      <th></th>\n",
              "      <th>proportion</th>\n",
              "    </tr>\n",
              "    <tr>\n",
              "      <th>checkout_page</th>\n",
              "      <th>gender</th>\n",
              "      <th></th>\n",
              "    </tr>\n",
              "  </thead>\n",
              "  <tbody>\n",
              "    <tr>\n",
              "      <th rowspan=\"2\" valign=\"top\">A</th>\n",
              "      <th>M</th>\n",
              "      <td>0.505000</td>\n",
              "    </tr>\n",
              "    <tr>\n",
              "      <th>F</th>\n",
              "      <td>0.495000</td>\n",
              "    </tr>\n",
              "    <tr>\n",
              "      <th rowspan=\"2\" valign=\"top\">B</th>\n",
              "      <th>F</th>\n",
              "      <td>0.507333</td>\n",
              "    </tr>\n",
              "    <tr>\n",
              "      <th>M</th>\n",
              "      <td>0.492667</td>\n",
              "    </tr>\n",
              "    <tr>\n",
              "      <th rowspan=\"2\" valign=\"top\">C</th>\n",
              "      <th>F</th>\n",
              "      <td>0.520333</td>\n",
              "    </tr>\n",
              "    <tr>\n",
              "      <th>M</th>\n",
              "      <td>0.479667</td>\n",
              "    </tr>\n",
              "  </tbody>\n",
              "</table>\n",
              "</div><br><label><b>dtype:</b> float64</label>"
            ]
          },
          "metadata": {},
          "execution_count": 10
        }
      ]
    },
    {
      "cell_type": "code",
      "source": [
        "print(checkout.groupby('checkout_page')['time_on_page'].mean())"
      ],
      "metadata": {
        "colab": {
          "base_uri": "https://localhost:8080/"
        },
        "id": "bOsfR1e5TI8Q",
        "outputId": "b51f2f09-3cbe-4dea-acfd-7c146e937928"
      },
      "execution_count": null,
      "outputs": [
        {
          "output_type": "stream",
          "name": "stdout",
          "text": [
            "checkout_page\n",
            "A    44.668527\n",
            "B    42.723772\n",
            "C    42.223772\n",
            "Name: time_on_page, dtype: float64\n"
          ]
        }
      ]
    },
    {
      "cell_type": "markdown",
      "source": [
        "CHECKING DISTRIBUTION BALANCE IN BROWSERS"
      ],
      "metadata": {
        "id": "z3pguc8yKZ8E"
      }
    },
    {
      "cell_type": "code",
      "source": [
        "checkout.groupby('checkout_page')['browser'].value_counts(normalize=True)"
      ],
      "metadata": {
        "colab": {
          "base_uri": "https://localhost:8080/",
          "height": 397
        },
        "id": "XdtEkfUZKJWc",
        "outputId": "4a1ff3f0-2c82-43bf-86e0-6cfe38af046c"
      },
      "execution_count": null,
      "outputs": [
        {
          "output_type": "execute_result",
          "data": {
            "text/plain": [
              "checkout_page  browser\n",
              "A              chrome     0.341333\n",
              "               safari     0.332000\n",
              "               firefox    0.326667\n",
              "B              safari     0.352000\n",
              "               firefox    0.325000\n",
              "               chrome     0.323000\n",
              "C              safari     0.346000\n",
              "               chrome     0.330000\n",
              "               firefox    0.324000\n",
              "Name: proportion, dtype: float64"
            ],
            "text/html": [
              "<div>\n",
              "<style scoped>\n",
              "    .dataframe tbody tr th:only-of-type {\n",
              "        vertical-align: middle;\n",
              "    }\n",
              "\n",
              "    .dataframe tbody tr th {\n",
              "        vertical-align: top;\n",
              "    }\n",
              "\n",
              "    .dataframe thead th {\n",
              "        text-align: right;\n",
              "    }\n",
              "</style>\n",
              "<table border=\"1\" class=\"dataframe\">\n",
              "  <thead>\n",
              "    <tr style=\"text-align: right;\">\n",
              "      <th></th>\n",
              "      <th></th>\n",
              "      <th>proportion</th>\n",
              "    </tr>\n",
              "    <tr>\n",
              "      <th>checkout_page</th>\n",
              "      <th>browser</th>\n",
              "      <th></th>\n",
              "    </tr>\n",
              "  </thead>\n",
              "  <tbody>\n",
              "    <tr>\n",
              "      <th rowspan=\"3\" valign=\"top\">A</th>\n",
              "      <th>chrome</th>\n",
              "      <td>0.341333</td>\n",
              "    </tr>\n",
              "    <tr>\n",
              "      <th>safari</th>\n",
              "      <td>0.332000</td>\n",
              "    </tr>\n",
              "    <tr>\n",
              "      <th>firefox</th>\n",
              "      <td>0.326667</td>\n",
              "    </tr>\n",
              "    <tr>\n",
              "      <th rowspan=\"3\" valign=\"top\">B</th>\n",
              "      <th>safari</th>\n",
              "      <td>0.352000</td>\n",
              "    </tr>\n",
              "    <tr>\n",
              "      <th>firefox</th>\n",
              "      <td>0.325000</td>\n",
              "    </tr>\n",
              "    <tr>\n",
              "      <th>chrome</th>\n",
              "      <td>0.323000</td>\n",
              "    </tr>\n",
              "    <tr>\n",
              "      <th rowspan=\"3\" valign=\"top\">C</th>\n",
              "      <th>safari</th>\n",
              "      <td>0.346000</td>\n",
              "    </tr>\n",
              "    <tr>\n",
              "      <th>chrome</th>\n",
              "      <td>0.330000</td>\n",
              "    </tr>\n",
              "    <tr>\n",
              "      <th>firefox</th>\n",
              "      <td>0.324000</td>\n",
              "    </tr>\n",
              "  </tbody>\n",
              "</table>\n",
              "</div><br><label><b>dtype:</b> float64</label>"
            ]
          },
          "metadata": {},
          "execution_count": 12
        }
      ]
    },
    {
      "cell_type": "markdown",
      "source": [
        "CHECK FOR DUPLICATES"
      ],
      "metadata": {
        "id": "vFvC-rS1GmMZ"
      }
    },
    {
      "cell_type": "code",
      "source": [
        "print(len(checkout))\n",
        "print(len(checkout.drop_duplicates(keep='first')))"
      ],
      "metadata": {
        "colab": {
          "base_uri": "https://localhost:8080/"
        },
        "id": "iTgjo6ibjyBk",
        "outputId": "09794a33-50d2-4155-99eb-b1fdf744aab6"
      },
      "execution_count": null,
      "outputs": [
        {
          "output_type": "stream",
          "name": "stdout",
          "text": [
            "9000\n",
            "9000\n"
          ]
        }
      ]
    },
    {
      "cell_type": "code",
      "source": [
        "# Unique users in group B\n",
        "print(checkout[checkout['checkout_page'] == 'B']['user_id'].nunique())"
      ],
      "metadata": {
        "colab": {
          "base_uri": "https://localhost:8080/"
        },
        "id": "4IP7AnxEomTk",
        "outputId": "99395db9-ae63-4de1-8fa6-7d9810682f00"
      },
      "execution_count": null,
      "outputs": [
        {
          "output_type": "stream",
          "name": "stdout",
          "text": [
            "2938\n"
          ]
        }
      ]
    },
    {
      "cell_type": "code",
      "source": [
        "# Unique users who purchased at least once\n",
        "print(checkout[checkout['checkout_page'] == 'B']\\\n",
        "      .groupby('user_id')['purchased'].max().sum())"
      ],
      "metadata": {
        "colab": {
          "base_uri": "https://localhost:8080/"
        },
        "id": "C-_ftg0ko4bV",
        "outputId": "2ebcf4d4-7f32-4f58-9c11-040d0e63a518"
      },
      "execution_count": null,
      "outputs": [
        {
          "output_type": "stream",
          "name": "stdout",
          "text": [
            "2491.0\n"
          ]
        }
      ]
    },
    {
      "cell_type": "code",
      "source": [
        "# Total purchase events in group B\n",
        "print(checkout[checkout['checkout_page'] == 'B']['purchased'].sum())"
      ],
      "metadata": {
        "colab": {
          "base_uri": "https://localhost:8080/"
        },
        "id": "u16N4Fc1pf8K",
        "outputId": "fbec3f7e-01ea-4e12-df04-8f4466c25e65"
      },
      "execution_count": null,
      "outputs": [
        {
          "output_type": "stream",
          "name": "stdout",
          "text": [
            "2541.0\n"
          ]
        }
      ]
    },
    {
      "cell_type": "code",
      "source": [
        "print(checkout.groupby('checkout_page')['order_value'].agg({'mean', 'std', 'count'}))"
      ],
      "metadata": {
        "colab": {
          "base_uri": "https://localhost:8080/"
        },
        "id": "hA915lg5pgHP",
        "outputId": "ace174dc-693d-499a-f722-97ce49530305"
      },
      "execution_count": null,
      "outputs": [
        {
          "output_type": "stream",
          "name": "stdout",
          "text": [
            "                    std  count       mean\n",
            "checkout_page                            \n",
            "A              2.418837   2461  24.956437\n",
            "B              7.277644   2541  29.876202\n",
            "C              4.869816   2603  34.917589\n"
          ]
        }
      ]
    },
    {
      "cell_type": "markdown",
      "source": [
        "**OBSERVATIONS:**\n",
        "\n",
        "Variant C has the highest mean order value 35 dollars\n",
        "\n",
        "B has the highest spread 7 dollars\n",
        "\n",
        "A has the lowest number of purchasers"
      ],
      "metadata": {
        "id": "92IMbGZIqd7s"
      }
    },
    {
      "cell_type": "code",
      "source": [
        "checkout.groupby('gender')['purchased'].mean()"
      ],
      "metadata": {
        "colab": {
          "base_uri": "https://localhost:8080/",
          "height": 178
        },
        "id": "P16aDA3-PO57",
        "outputId": "300fd9ff-60f3-4a5e-8225-7481dcdf95e6"
      },
      "execution_count": null,
      "outputs": [
        {
          "output_type": "execute_result",
          "data": {
            "text/plain": [
              "gender\n",
              "F    0.908056\n",
              "M    0.780009\n",
              "Name: purchased, dtype: float64"
            ],
            "text/html": [
              "<div>\n",
              "<style scoped>\n",
              "    .dataframe tbody tr th:only-of-type {\n",
              "        vertical-align: middle;\n",
              "    }\n",
              "\n",
              "    .dataframe tbody tr th {\n",
              "        vertical-align: top;\n",
              "    }\n",
              "\n",
              "    .dataframe thead th {\n",
              "        text-align: right;\n",
              "    }\n",
              "</style>\n",
              "<table border=\"1\" class=\"dataframe\">\n",
              "  <thead>\n",
              "    <tr style=\"text-align: right;\">\n",
              "      <th></th>\n",
              "      <th>purchased</th>\n",
              "    </tr>\n",
              "    <tr>\n",
              "      <th>gender</th>\n",
              "      <th></th>\n",
              "    </tr>\n",
              "  </thead>\n",
              "  <tbody>\n",
              "    <tr>\n",
              "      <th>F</th>\n",
              "      <td>0.908056</td>\n",
              "    </tr>\n",
              "    <tr>\n",
              "      <th>M</th>\n",
              "      <td>0.780009</td>\n",
              "    </tr>\n",
              "  </tbody>\n",
              "</table>\n",
              "</div><br><label><b>dtype:</b> float64</label>"
            ]
          },
          "metadata": {},
          "execution_count": 15
        }
      ]
    },
    {
      "cell_type": "code",
      "source": [
        "checkout[(checkout['browser'] == 'chrome') | (checkout['browser'] == 'safari')]\\\n",
        ".groupby('gender')['order_value'].mean()"
      ],
      "metadata": {
        "colab": {
          "base_uri": "https://localhost:8080/",
          "height": 178
        },
        "id": "JAW5WrYoSd_R",
        "outputId": "1e55dd7b-221e-4a0f-b89b-2552f021c78a"
      },
      "execution_count": null,
      "outputs": [
        {
          "output_type": "execute_result",
          "data": {
            "text/plain": [
              "gender\n",
              "F    29.814161\n",
              "M    30.383431\n",
              "Name: order_value, dtype: float64"
            ],
            "text/html": [
              "<div>\n",
              "<style scoped>\n",
              "    .dataframe tbody tr th:only-of-type {\n",
              "        vertical-align: middle;\n",
              "    }\n",
              "\n",
              "    .dataframe tbody tr th {\n",
              "        vertical-align: top;\n",
              "    }\n",
              "\n",
              "    .dataframe thead th {\n",
              "        text-align: right;\n",
              "    }\n",
              "</style>\n",
              "<table border=\"1\" class=\"dataframe\">\n",
              "  <thead>\n",
              "    <tr style=\"text-align: right;\">\n",
              "      <th></th>\n",
              "      <th>order_value</th>\n",
              "    </tr>\n",
              "    <tr>\n",
              "      <th>gender</th>\n",
              "      <th></th>\n",
              "    </tr>\n",
              "  </thead>\n",
              "  <tbody>\n",
              "    <tr>\n",
              "      <th>F</th>\n",
              "      <td>29.814161</td>\n",
              "    </tr>\n",
              "    <tr>\n",
              "      <th>M</th>\n",
              "      <td>30.383431</td>\n",
              "    </tr>\n",
              "  </tbody>\n",
              "</table>\n",
              "</div><br><label><b>dtype:</b> float64</label>"
            ]
          },
          "metadata": {},
          "execution_count": 16
        }
      ]
    },
    {
      "cell_type": "code",
      "source": [
        "checkout.groupby('browser')[['order_value', 'purchased']].mean()"
      ],
      "metadata": {
        "colab": {
          "base_uri": "https://localhost:8080/",
          "height": 175
        },
        "id": "5_3-yi_rSOQ3",
        "outputId": "ca4d75d1-0e78-498c-b237-b3cbf72688ff"
      },
      "execution_count": null,
      "outputs": [
        {
          "output_type": "execute_result",
          "data": {
            "text/plain": [
              "         order_value  purchased\n",
              "browser                        \n",
              "chrome     30.016625   0.839088\n",
              "firefox    29.887491   0.851725\n",
              "safari     30.119808   0.844337"
            ],
            "text/html": [
              "\n",
              "  <div id=\"df-58888199-4a7d-479c-8868-917ba26ce8d3\" class=\"colab-df-container\">\n",
              "    <div>\n",
              "<style scoped>\n",
              "    .dataframe tbody tr th:only-of-type {\n",
              "        vertical-align: middle;\n",
              "    }\n",
              "\n",
              "    .dataframe tbody tr th {\n",
              "        vertical-align: top;\n",
              "    }\n",
              "\n",
              "    .dataframe thead th {\n",
              "        text-align: right;\n",
              "    }\n",
              "</style>\n",
              "<table border=\"1\" class=\"dataframe\">\n",
              "  <thead>\n",
              "    <tr style=\"text-align: right;\">\n",
              "      <th></th>\n",
              "      <th>order_value</th>\n",
              "      <th>purchased</th>\n",
              "    </tr>\n",
              "    <tr>\n",
              "      <th>browser</th>\n",
              "      <th></th>\n",
              "      <th></th>\n",
              "    </tr>\n",
              "  </thead>\n",
              "  <tbody>\n",
              "    <tr>\n",
              "      <th>chrome</th>\n",
              "      <td>30.016625</td>\n",
              "      <td>0.839088</td>\n",
              "    </tr>\n",
              "    <tr>\n",
              "      <th>firefox</th>\n",
              "      <td>29.887491</td>\n",
              "      <td>0.851725</td>\n",
              "    </tr>\n",
              "    <tr>\n",
              "      <th>safari</th>\n",
              "      <td>30.119808</td>\n",
              "      <td>0.844337</td>\n",
              "    </tr>\n",
              "  </tbody>\n",
              "</table>\n",
              "</div>\n",
              "    <div class=\"colab-df-buttons\">\n",
              "\n",
              "  <div class=\"colab-df-container\">\n",
              "    <button class=\"colab-df-convert\" onclick=\"convertToInteractive('df-58888199-4a7d-479c-8868-917ba26ce8d3')\"\n",
              "            title=\"Convert this dataframe to an interactive table.\"\n",
              "            style=\"display:none;\">\n",
              "\n",
              "  <svg xmlns=\"http://www.w3.org/2000/svg\" height=\"24px\" viewBox=\"0 -960 960 960\">\n",
              "    <path d=\"M120-120v-720h720v720H120Zm60-500h600v-160H180v160Zm220 220h160v-160H400v160Zm0 220h160v-160H400v160ZM180-400h160v-160H180v160Zm440 0h160v-160H620v160ZM180-180h160v-160H180v160Zm440 0h160v-160H620v160Z\"/>\n",
              "  </svg>\n",
              "    </button>\n",
              "\n",
              "  <style>\n",
              "    .colab-df-container {\n",
              "      display:flex;\n",
              "      gap: 12px;\n",
              "    }\n",
              "\n",
              "    .colab-df-convert {\n",
              "      background-color: #E8F0FE;\n",
              "      border: none;\n",
              "      border-radius: 50%;\n",
              "      cursor: pointer;\n",
              "      display: none;\n",
              "      fill: #1967D2;\n",
              "      height: 32px;\n",
              "      padding: 0 0 0 0;\n",
              "      width: 32px;\n",
              "    }\n",
              "\n",
              "    .colab-df-convert:hover {\n",
              "      background-color: #E2EBFA;\n",
              "      box-shadow: 0px 1px 2px rgba(60, 64, 67, 0.3), 0px 1px 3px 1px rgba(60, 64, 67, 0.15);\n",
              "      fill: #174EA6;\n",
              "    }\n",
              "\n",
              "    .colab-df-buttons div {\n",
              "      margin-bottom: 4px;\n",
              "    }\n",
              "\n",
              "    [theme=dark] .colab-df-convert {\n",
              "      background-color: #3B4455;\n",
              "      fill: #D2E3FC;\n",
              "    }\n",
              "\n",
              "    [theme=dark] .colab-df-convert:hover {\n",
              "      background-color: #434B5C;\n",
              "      box-shadow: 0px 1px 3px 1px rgba(0, 0, 0, 0.15);\n",
              "      filter: drop-shadow(0px 1px 2px rgba(0, 0, 0, 0.3));\n",
              "      fill: #FFFFFF;\n",
              "    }\n",
              "  </style>\n",
              "\n",
              "    <script>\n",
              "      const buttonEl =\n",
              "        document.querySelector('#df-58888199-4a7d-479c-8868-917ba26ce8d3 button.colab-df-convert');\n",
              "      buttonEl.style.display =\n",
              "        google.colab.kernel.accessAllowed ? 'block' : 'none';\n",
              "\n",
              "      async function convertToInteractive(key) {\n",
              "        const element = document.querySelector('#df-58888199-4a7d-479c-8868-917ba26ce8d3');\n",
              "        const dataTable =\n",
              "          await google.colab.kernel.invokeFunction('convertToInteractive',\n",
              "                                                    [key], {});\n",
              "        if (!dataTable) return;\n",
              "\n",
              "        const docLinkHtml = 'Like what you see? Visit the ' +\n",
              "          '<a target=\"_blank\" href=https://colab.research.google.com/notebooks/data_table.ipynb>data table notebook</a>'\n",
              "          + ' to learn more about interactive tables.';\n",
              "        element.innerHTML = '';\n",
              "        dataTable['output_type'] = 'display_data';\n",
              "        await google.colab.output.renderOutput(dataTable, element);\n",
              "        const docLink = document.createElement('div');\n",
              "        docLink.innerHTML = docLinkHtml;\n",
              "        element.appendChild(docLink);\n",
              "      }\n",
              "    </script>\n",
              "  </div>\n",
              "\n",
              "\n",
              "<div id=\"df-333dd223-f34b-4ada-9bc9-6dd8722673fd\">\n",
              "  <button class=\"colab-df-quickchart\" onclick=\"quickchart('df-333dd223-f34b-4ada-9bc9-6dd8722673fd')\"\n",
              "            title=\"Suggest charts\"\n",
              "            style=\"display:none;\">\n",
              "\n",
              "<svg xmlns=\"http://www.w3.org/2000/svg\" height=\"24px\"viewBox=\"0 0 24 24\"\n",
              "     width=\"24px\">\n",
              "    <g>\n",
              "        <path d=\"M19 3H5c-1.1 0-2 .9-2 2v14c0 1.1.9 2 2 2h14c1.1 0 2-.9 2-2V5c0-1.1-.9-2-2-2zM9 17H7v-7h2v7zm4 0h-2V7h2v10zm4 0h-2v-4h2v4z\"/>\n",
              "    </g>\n",
              "</svg>\n",
              "  </button>\n",
              "\n",
              "<style>\n",
              "  .colab-df-quickchart {\n",
              "      --bg-color: #E8F0FE;\n",
              "      --fill-color: #1967D2;\n",
              "      --hover-bg-color: #E2EBFA;\n",
              "      --hover-fill-color: #174EA6;\n",
              "      --disabled-fill-color: #AAA;\n",
              "      --disabled-bg-color: #DDD;\n",
              "  }\n",
              "\n",
              "  [theme=dark] .colab-df-quickchart {\n",
              "      --bg-color: #3B4455;\n",
              "      --fill-color: #D2E3FC;\n",
              "      --hover-bg-color: #434B5C;\n",
              "      --hover-fill-color: #FFFFFF;\n",
              "      --disabled-bg-color: #3B4455;\n",
              "      --disabled-fill-color: #666;\n",
              "  }\n",
              "\n",
              "  .colab-df-quickchart {\n",
              "    background-color: var(--bg-color);\n",
              "    border: none;\n",
              "    border-radius: 50%;\n",
              "    cursor: pointer;\n",
              "    display: none;\n",
              "    fill: var(--fill-color);\n",
              "    height: 32px;\n",
              "    padding: 0;\n",
              "    width: 32px;\n",
              "  }\n",
              "\n",
              "  .colab-df-quickchart:hover {\n",
              "    background-color: var(--hover-bg-color);\n",
              "    box-shadow: 0 1px 2px rgba(60, 64, 67, 0.3), 0 1px 3px 1px rgba(60, 64, 67, 0.15);\n",
              "    fill: var(--button-hover-fill-color);\n",
              "  }\n",
              "\n",
              "  .colab-df-quickchart-complete:disabled,\n",
              "  .colab-df-quickchart-complete:disabled:hover {\n",
              "    background-color: var(--disabled-bg-color);\n",
              "    fill: var(--disabled-fill-color);\n",
              "    box-shadow: none;\n",
              "  }\n",
              "\n",
              "  .colab-df-spinner {\n",
              "    border: 2px solid var(--fill-color);\n",
              "    border-color: transparent;\n",
              "    border-bottom-color: var(--fill-color);\n",
              "    animation:\n",
              "      spin 1s steps(1) infinite;\n",
              "  }\n",
              "\n",
              "  @keyframes spin {\n",
              "    0% {\n",
              "      border-color: transparent;\n",
              "      border-bottom-color: var(--fill-color);\n",
              "      border-left-color: var(--fill-color);\n",
              "    }\n",
              "    20% {\n",
              "      border-color: transparent;\n",
              "      border-left-color: var(--fill-color);\n",
              "      border-top-color: var(--fill-color);\n",
              "    }\n",
              "    30% {\n",
              "      border-color: transparent;\n",
              "      border-left-color: var(--fill-color);\n",
              "      border-top-color: var(--fill-color);\n",
              "      border-right-color: var(--fill-color);\n",
              "    }\n",
              "    40% {\n",
              "      border-color: transparent;\n",
              "      border-right-color: var(--fill-color);\n",
              "      border-top-color: var(--fill-color);\n",
              "    }\n",
              "    60% {\n",
              "      border-color: transparent;\n",
              "      border-right-color: var(--fill-color);\n",
              "    }\n",
              "    80% {\n",
              "      border-color: transparent;\n",
              "      border-right-color: var(--fill-color);\n",
              "      border-bottom-color: var(--fill-color);\n",
              "    }\n",
              "    90% {\n",
              "      border-color: transparent;\n",
              "      border-bottom-color: var(--fill-color);\n",
              "    }\n",
              "  }\n",
              "</style>\n",
              "\n",
              "  <script>\n",
              "    async function quickchart(key) {\n",
              "      const quickchartButtonEl =\n",
              "        document.querySelector('#' + key + ' button');\n",
              "      quickchartButtonEl.disabled = true;  // To prevent multiple clicks.\n",
              "      quickchartButtonEl.classList.add('colab-df-spinner');\n",
              "      try {\n",
              "        const charts = await google.colab.kernel.invokeFunction(\n",
              "            'suggestCharts', [key], {});\n",
              "      } catch (error) {\n",
              "        console.error('Error during call to suggestCharts:', error);\n",
              "      }\n",
              "      quickchartButtonEl.classList.remove('colab-df-spinner');\n",
              "      quickchartButtonEl.classList.add('colab-df-quickchart-complete');\n",
              "    }\n",
              "    (() => {\n",
              "      let quickchartButtonEl =\n",
              "        document.querySelector('#df-333dd223-f34b-4ada-9bc9-6dd8722673fd button');\n",
              "      quickchartButtonEl.style.display =\n",
              "        google.colab.kernel.accessAllowed ? 'block' : 'none';\n",
              "    })();\n",
              "  </script>\n",
              "</div>\n",
              "\n",
              "    </div>\n",
              "  </div>\n"
            ],
            "application/vnd.google.colaboratory.intrinsic+json": {
              "type": "dataframe",
              "summary": "{\n  \"name\": \"checkout\",\n  \"rows\": 3,\n  \"fields\": [\n    {\n      \"column\": \"browser\",\n      \"properties\": {\n        \"dtype\": \"string\",\n        \"num_unique_values\": 3,\n        \"samples\": [\n          \"chrome\",\n          \"firefox\",\n          \"safari\"\n        ],\n        \"semantic_type\": \"\",\n        \"description\": \"\"\n      }\n    },\n    {\n      \"column\": \"order_value\",\n      \"properties\": {\n        \"dtype\": \"number\",\n        \"std\": 0.11639977157148089,\n        \"min\": 29.887490865099462,\n        \"max\": 30.119807741615677,\n        \"num_unique_values\": 3,\n        \"samples\": [\n          30.016625132039817,\n          29.887490865099462,\n          30.119807741615677\n        ],\n        \"semantic_type\": \"\",\n        \"description\": \"\"\n      }\n    },\n    {\n      \"column\": \"purchased\",\n      \"properties\": {\n        \"dtype\": \"number\",\n        \"std\": 0.006348712008438017,\n        \"min\": 0.8390881662755615,\n        \"max\": 0.851725316023232,\n        \"num_unique_values\": 3,\n        \"samples\": [\n          0.8390881662755615,\n          0.851725316023232,\n          0.844336569579288\n        ],\n        \"semantic_type\": \"\",\n        \"description\": \"\"\n      }\n    }\n  ]\n}"
            }
          },
          "metadata": {},
          "execution_count": 17
        }
      ]
    },
    {
      "cell_type": "markdown",
      "source": [
        "**OBSERVATIONS:**\n",
        "\n",
        "There are some slight differences, for the moment these differences cannot be considered statistically significants.\n",
        "\n",
        "They might be due to chance as well."
      ],
      "metadata": {
        "id": "CY2c_pWLUNyW"
      }
    },
    {
      "cell_type": "markdown",
      "source": [
        "# BIVARIATE ANALYSIS"
      ],
      "metadata": {
        "id": "xvya3xJO96xD"
      }
    },
    {
      "cell_type": "markdown",
      "source": [
        "TO SHOW A PAIRPLOT"
      ],
      "metadata": {
        "id": "7QxZocUfG_iV"
      }
    },
    {
      "cell_type": "code",
      "source": [
        "sns.pairplot(checkout[['order_value', 'purchased',\t'time_on_page']])"
      ],
      "metadata": {
        "colab": {
          "base_uri": "https://localhost:8080/",
          "height": 776
        },
        "id": "1xUIWV6SMcyV",
        "outputId": "ea6767db-321f-44c2-9340-499d8f66de67"
      },
      "execution_count": null,
      "outputs": [
        {
          "output_type": "execute_result",
          "data": {
            "text/plain": [
              "<seaborn.axisgrid.PairGrid at 0x7f8cb9c2b0a0>"
            ]
          },
          "metadata": {},
          "execution_count": 22
        },
        {
          "output_type": "display_data",
          "data": {
            "text/plain": [
              "<Figure size 750x750 with 12 Axes>"
            ],
            "image/png": "[encoded data removed]"
          },
          "metadata": {}
        }
      ]
    },
    {
      "cell_type": "code",
      "source": [
        "checkout[['order_value', 'purchased',\t'time_on_page']].corr()"
      ],
      "metadata": {
        "colab": {
          "base_uri": "https://localhost:8080/",
          "height": 143
        },
        "id": "2aexvE7mOkdc",
        "outputId": "b57e3030-4c05-42db-afa7-488c77b006b0"
      },
      "execution_count": null,
      "outputs": [
        {
          "output_type": "execute_result",
          "data": {
            "text/plain": [
              "              order_value  purchased  time_on_page\n",
              "order_value      1.000000        NaN      0.647366\n",
              "purchased             NaN   1.000000      0.020452\n",
              "time_on_page     0.647366   0.020452      1.000000"
            ],
            "text/html": [
              "\n",
              "  <div id=\"df-ac778e93-29ee-494f-8e60-1e4adfbb7027\" class=\"colab-df-container\">\n",
              "    <div>\n",
              "<style scoped>\n",
              "    .dataframe tbody tr th:only-of-type {\n",
              "        vertical-align: middle;\n",
              "    }\n",
              "\n",
              "    .dataframe tbody tr th {\n",
              "        vertical-align: top;\n",
              "    }\n",
              "\n",
              "    .dataframe thead th {\n",
              "        text-align: right;\n",
              "    }\n",
              "</style>\n",
              "<table border=\"1\" class=\"dataframe\">\n",
              "  <thead>\n",
              "    <tr style=\"text-align: right;\">\n",
              "      <th></th>\n",
              "      <th>order_value</th>\n",
              "      <th>purchased</th>\n",
              "      <th>time_on_page</th>\n",
              "    </tr>\n",
              "  </thead>\n",
              "  <tbody>\n",
              "    <tr>\n",
              "      <th>order_value</th>\n",
              "      <td>1.000000</td>\n",
              "      <td>NaN</td>\n",
              "      <td>0.647366</td>\n",
              "    </tr>\n",
              "    <tr>\n",
              "      <th>purchased</th>\n",
              "      <td>NaN</td>\n",
              "      <td>1.000000</td>\n",
              "      <td>0.020452</td>\n",
              "    </tr>\n",
              "    <tr>\n",
              "      <th>time_on_page</th>\n",
              "      <td>0.647366</td>\n",
              "      <td>0.020452</td>\n",
              "      <td>1.000000</td>\n",
              "    </tr>\n",
              "  </tbody>\n",
              "</table>\n",
              "</div>\n",
              "    <div class=\"colab-df-buttons\">\n",
              "\n",
              "  <div class=\"colab-df-container\">\n",
              "    <button class=\"colab-df-convert\" onclick=\"convertToInteractive('df-ac778e93-29ee-494f-8e60-1e4adfbb7027')\"\n",
              "            title=\"Convert this dataframe to an interactive table.\"\n",
              "            style=\"display:none;\">\n",
              "\n",
              "  <svg xmlns=\"http://www.w3.org/2000/svg\" height=\"24px\" viewBox=\"0 -960 960 960\">\n",
              "    <path d=\"M120-120v-720h720v720H120Zm60-500h600v-160H180v160Zm220 220h160v-160H400v160Zm0 220h160v-160H400v160ZM180-400h160v-160H180v160Zm440 0h160v-160H620v160ZM180-180h160v-160H180v160Zm440 0h160v-160H620v160Z\"/>\n",
              "  </svg>\n",
              "    </button>\n",
              "\n",
              "  <style>\n",
              "    .colab-df-container {\n",
              "      display:flex;\n",
              "      gap: 12px;\n",
              "    }\n",
              "\n",
              "    .colab-df-convert {\n",
              "      background-color: #E8F0FE;\n",
              "      border: none;\n",
              "      border-radius: 50%;\n",
              "      cursor: pointer;\n",
              "      display: none;\n",
              "      fill: #1967D2;\n",
              "      height: 32px;\n",
              "      padding: 0 0 0 0;\n",
              "      width: 32px;\n",
              "    }\n",
              "\n",
              "    .colab-df-convert:hover {\n",
              "      background-color: #E2EBFA;\n",
              "      box-shadow: 0px 1px 2px rgba(60, 64, 67, 0.3), 0px 1px 3px 1px rgba(60, 64, 67, 0.15);\n",
              "      fill: #174EA6;\n",
              "    }\n",
              "\n",
              "    .colab-df-buttons div {\n",
              "      margin-bottom: 4px;\n",
              "    }\n",
              "\n",
              "    [theme=dark] .colab-df-convert {\n",
              "      background-color: #3B4455;\n",
              "      fill: #D2E3FC;\n",
              "    }\n",
              "\n",
              "    [theme=dark] .colab-df-convert:hover {\n",
              "      background-color: #434B5C;\n",
              "      box-shadow: 0px 1px 3px 1px rgba(0, 0, 0, 0.15);\n",
              "      filter: drop-shadow(0px 1px 2px rgba(0, 0, 0, 0.3));\n",
              "      fill: #FFFFFF;\n",
              "    }\n",
              "  </style>\n",
              "\n",
              "    <script>\n",
              "      const buttonEl =\n",
              "        document.querySelector('#df-ac778e93-29ee-494f-8e60-1e4adfbb7027 button.colab-df-convert');\n",
              "      buttonEl.style.display =\n",
              "        google.colab.kernel.accessAllowed ? 'block' : 'none';\n",
              "\n",
              "      async function convertToInteractive(key) {\n",
              "        const element = document.querySelector('#df-ac778e93-29ee-494f-8e60-1e4adfbb7027');\n",
              "        const dataTable =\n",
              "          await google.colab.kernel.invokeFunction('convertToInteractive',\n",
              "                                                    [key], {});\n",
              "        if (!dataTable) return;\n",
              "\n",
              "        const docLinkHtml = 'Like what you see? Visit the ' +\n",
              "          '<a target=\"_blank\" href=https://colab.research.google.com/notebooks/data_table.ipynb>data table notebook</a>'\n",
              "          + ' to learn more about interactive tables.';\n",
              "        element.innerHTML = '';\n",
              "        dataTable['output_type'] = 'display_data';\n",
              "        await google.colab.output.renderOutput(dataTable, element);\n",
              "        const docLink = document.createElement('div');\n",
              "        docLink.innerHTML = docLinkHtml;\n",
              "        element.appendChild(docLink);\n",
              "      }\n",
              "    </script>\n",
              "  </div>\n",
              "\n",
              "\n",
              "<div id=\"df-564973ae-7436-4b31-91b5-6a2000dadfd4\">\n",
              "  <button class=\"colab-df-quickchart\" onclick=\"quickchart('df-564973ae-7436-4b31-91b5-6a2000dadfd4')\"\n",
              "            title=\"Suggest charts\"\n",
              "            style=\"display:none;\">\n",
              "\n",
              "<svg xmlns=\"http://www.w3.org/2000/svg\" height=\"24px\"viewBox=\"0 0 24 24\"\n",
              "     width=\"24px\">\n",
              "    <g>\n",
              "        <path d=\"M19 3H5c-1.1 0-2 .9-2 2v14c0 1.1.9 2 2 2h14c1.1 0 2-.9 2-2V5c0-1.1-.9-2-2-2zM9 17H7v-7h2v7zm4 0h-2V7h2v10zm4 0h-2v-4h2v4z\"/>\n",
              "    </g>\n",
              "</svg>\n",
              "  </button>\n",
              "\n",
              "<style>\n",
              "  .colab-df-quickchart {\n",
              "      --bg-color: #E8F0FE;\n",
              "      --fill-color: #1967D2;\n",
              "      --hover-bg-color: #E2EBFA;\n",
              "      --hover-fill-color: #174EA6;\n",
              "      --disabled-fill-color: #AAA;\n",
              "      --disabled-bg-color: #DDD;\n",
              "  }\n",
              "\n",
              "  [theme=dark] .colab-df-quickchart {\n",
              "      --bg-color: #3B4455;\n",
              "      --fill-color: #D2E3FC;\n",
              "      --hover-bg-color: #434B5C;\n",
              "      --hover-fill-color: #FFFFFF;\n",
              "      --disabled-bg-color: #3B4455;\n",
              "      --disabled-fill-color: #666;\n",
              "  }\n",
              "\n",
              "  .colab-df-quickchart {\n",
              "    background-color: var(--bg-color);\n",
              "    border: none;\n",
              "    border-radius: 50%;\n",
              "    cursor: pointer;\n",
              "    display: none;\n",
              "    fill: var(--fill-color);\n",
              "    height: 32px;\n",
              "    padding: 0;\n",
              "    width: 32px;\n",
              "  }\n",
              "\n",
              "  .colab-df-quickchart:hover {\n",
              "    background-color: var(--hover-bg-color);\n",
              "    box-shadow: 0 1px 2px rgba(60, 64, 67, 0.3), 0 1px 3px 1px rgba(60, 64, 67, 0.15);\n",
              "    fill: var(--button-hover-fill-color);\n",
              "  }\n",
              "\n",
              "  .colab-df-quickchart-complete:disabled,\n",
              "  .colab-df-quickchart-complete:disabled:hover {\n",
              "    background-color: var(--disabled-bg-color);\n",
              "    fill: var(--disabled-fill-color);\n",
              "    box-shadow: none;\n",
              "  }\n",
              "\n",
              "  .colab-df-spinner {\n",
              "    border: 2px solid var(--fill-color);\n",
              "    border-color: transparent;\n",
              "    border-bottom-color: var(--fill-color);\n",
              "    animation:\n",
              "      spin 1s steps(1) infinite;\n",
              "  }\n",
              "\n",
              "  @keyframes spin {\n",
              "    0% {\n",
              "      border-color: transparent;\n",
              "      border-bottom-color: var(--fill-color);\n",
              "      border-left-color: var(--fill-color);\n",
              "    }\n",
              "    20% {\n",
              "      border-color: transparent;\n",
              "      border-left-color: var(--fill-color);\n",
              "      border-top-color: var(--fill-color);\n",
              "    }\n",
              "    30% {\n",
              "      border-color: transparent;\n",
              "      border-left-color: var(--fill-color);\n",
              "      border-top-color: var(--fill-color);\n",
              "      border-right-color: var(--fill-color);\n",
              "    }\n",
              "    40% {\n",
              "      border-color: transparent;\n",
              "      border-right-color: var(--fill-color);\n",
              "      border-top-color: var(--fill-color);\n",
              "    }\n",
              "    60% {\n",
              "      border-color: transparent;\n",
              "      border-right-color: var(--fill-color);\n",
              "    }\n",
              "    80% {\n",
              "      border-color: transparent;\n",
              "      border-right-color: var(--fill-color);\n",
              "      border-bottom-color: var(--fill-color);\n",
              "    }\n",
              "    90% {\n",
              "      border-color: transparent;\n",
              "      border-bottom-color: var(--fill-color);\n",
              "    }\n",
              "  }\n",
              "</style>\n",
              "\n",
              "  <script>\n",
              "    async function quickchart(key) {\n",
              "      const quickchartButtonEl =\n",
              "        document.querySelector('#' + key + ' button');\n",
              "      quickchartButtonEl.disabled = true;  // To prevent multiple clicks.\n",
              "      quickchartButtonEl.classList.add('colab-df-spinner');\n",
              "      try {\n",
              "        const charts = await google.colab.kernel.invokeFunction(\n",
              "            'suggestCharts', [key], {});\n",
              "      } catch (error) {\n",
              "        console.error('Error during call to suggestCharts:', error);\n",
              "      }\n",
              "      quickchartButtonEl.classList.remove('colab-df-spinner');\n",
              "      quickchartButtonEl.classList.add('colab-df-quickchart-complete');\n",
              "    }\n",
              "    (() => {\n",
              "      let quickchartButtonEl =\n",
              "        document.querySelector('#df-564973ae-7436-4b31-91b5-6a2000dadfd4 button');\n",
              "      quickchartButtonEl.style.display =\n",
              "        google.colab.kernel.accessAllowed ? 'block' : 'none';\n",
              "    })();\n",
              "  </script>\n",
              "</div>\n",
              "\n",
              "    </div>\n",
              "  </div>\n"
            ],
            "application/vnd.google.colaboratory.intrinsic+json": {
              "type": "dataframe",
              "summary": "{\n  \"name\": \"checkout[['order_value', 'purchased',\\t'time_on_page']]\",\n  \"rows\": 3,\n  \"fields\": [\n    {\n      \"column\": \"order_value\",\n      \"properties\": {\n        \"dtype\": \"number\",\n        \"std\": 0.2493498328113394,\n        \"min\": 0.64736608466274,\n        \"max\": 1.0,\n        \"num_unique_values\": 2,\n        \"samples\": [\n          0.64736608466274,\n          1.0\n        ],\n        \"semantic_type\": \"\",\n        \"description\": \"\"\n      }\n    },\n    {\n      \"column\": \"purchased\",\n      \"properties\": {\n        \"dtype\": \"number\",\n        \"std\": 0.6926451085087426,\n        \"min\": 0.02045189363555212,\n        \"max\": 1.0,\n        \"num_unique_values\": 2,\n        \"samples\": [\n          0.02045189363555212,\n          1.0\n        ],\n        \"semantic_type\": \"\",\n        \"description\": \"\"\n      }\n    },\n    {\n      \"column\": \"time_on_page\",\n      \"properties\": {\n        \"dtype\": \"number\",\n        \"std\": 0.4961328071258634,\n        \"min\": 0.02045189363555212,\n        \"max\": 1.0,\n        \"num_unique_values\": 3,\n        \"samples\": [\n          0.64736608466274,\n          0.02045189363555212\n        ],\n        \"semantic_type\": \"\",\n        \"description\": \"\"\n      }\n    }\n  ]\n}"
            }
          },
          "metadata": {},
          "execution_count": 23
        }
      ]
    },
    {
      "cell_type": "markdown",
      "source": [
        "\n",
        "\n",
        "---\n",
        "\n"
      ],
      "metadata": {
        "id": "bk1A-K0Yl2z6"
      }
    },
    {
      "cell_type": "code",
      "source": [
        "sns.barplot(x=checkout['checkout_page'], y=checkout['order_value'], estimator=np.mean)\n",
        "plt.title('Average Order Value per Checkout Page Variant')\n",
        "plt.xlabel('Checkout Page Variant')\n",
        "plt.ylabel('Order Value')\n",
        "plt.show()"
      ],
      "metadata": {
        "colab": {
          "base_uri": "https://localhost:8080/",
          "height": 472
        },
        "id": "Gf2bAqgEqAMb",
        "outputId": "ae53587c-5fec-43ec-d574-c86bf76fab96"
      },
      "execution_count": null,
      "outputs": [
        {
          "output_type": "display_data",
          "data": {
            "text/plain": [
              "<Figure size 640x480 with 1 Axes>"
            ],
            "image/png": "[encoded data removed]"
          },
          "metadata": {}
        }
      ]
    },
    {
      "cell_type": "markdown",
      "source": [
        "\n",
        "\n",
        "---\n",
        "\n"
      ],
      "metadata": {
        "id": "qbyZeHKGl7GR"
      }
    },
    {
      "cell_type": "code",
      "source": [
        "checkout.groupby('checkout_page')['order_value'].plot(kind='kde') # Remove hue argument as it is not supported by matplotlib\n",
        "plt.title('Distribution of Order Value by Checkout Page Variant')\n",
        "plt.xlabel('Order Value')\n",
        "plt.ylabel('Density')\n",
        "plt.legend() # Add a legend to differentiate the checkout pages\n",
        "plt.show()"
      ],
      "metadata": {
        "colab": {
          "base_uri": "https://localhost:8080/",
          "height": 472
        },
        "id": "6qTO1MSdveJo",
        "outputId": "36672153-8da3-4777-ca8b-e737caf01294"
      },
      "execution_count": null,
      "outputs": [
        {
          "output_type": "display_data",
          "data": {
            "text/plain": [
              "<Figure size 640x480 with 1 Axes>"
            ],
            "image/png": "[encoded data removed]"
          },
          "metadata": {}
        }
      ]
    },
    {
      "cell_type": "markdown",
      "source": [
        "\n",
        "\n",
        "---\n",
        "\n"
      ],
      "metadata": {
        "id": "e5OgRNzSl8er"
      }
    },
    {
      "cell_type": "markdown",
      "source": [
        "DISTRIBUTION OF TIME SPENT ON EACH PAGE"
      ],
      "metadata": {
        "id": "Pf1AaYwrpVTB"
      }
    },
    {
      "cell_type": "code",
      "source": [
        "# Create boxplot with labels and grid\n",
        "plt.figure(figsize=(10,6))\n",
        "sns.boxplot(x='checkout_page', y='time_on_page', data=checkout)\n",
        "plt.title('Distribution of Time Spent on Each Page')\n",
        "plt.xlabel('Checkout Page')\n",
        "plt.ylabel('Time on Page (s)')\n",
        "plt.grid(True)\n",
        "plt.show()"
      ],
      "metadata": {
        "colab": {
          "base_uri": "https://localhost:8080/",
          "height": 564
        },
        "id": "ZUAK4lhIpT5M",
        "outputId": "b8dc6a92-1d2d-4441-92ee-ee0707718b5f"
      },
      "execution_count": null,
      "outputs": [
        {
          "output_type": "display_data",
          "data": {
            "text/plain": [
              "<Figure size 1000x600 with 1 Axes>"
            ],
            "image/png": "[encoded data removed]"
          },
          "metadata": {}
        }
      ]
    },
    {
      "cell_type": "markdown",
      "source": [
        "\n",
        "\n",
        "---\n",
        "\n"
      ],
      "metadata": {
        "id": "lEiHCAmwl9x7"
      }
    },
    {
      "cell_type": "code",
      "source": [
        "# Create violin plot with labels and grid\n",
        "plt.figure(figsize=(10,6))\n",
        "sns.violinplot(x='checkout_page', y='time_on_page', data=checkout)\n",
        "plt.title('Distribution of Time Spent on Each Page')\n",
        "plt.xlabel('Checkout Page')\n",
        "plt.ylabel('Time on Page (s)')\n",
        "plt.grid(True)\n",
        "plt.show()"
      ],
      "metadata": {
        "colab": {
          "base_uri": "https://localhost:8080/",
          "height": 564
        },
        "id": "26mpPF7spirA",
        "outputId": "d0900023-16b2-4d67-a4d7-e3e20b96b644"
      },
      "execution_count": null,
      "outputs": [
        {
          "output_type": "display_data",
          "data": {
            "text/plain": [
              "<Figure size 1000x600 with 1 Axes>"
            ],
            "image/png": "[encoded data removed]"
          },
          "metadata": {}
        }
      ]
    },
    {
      "cell_type": "markdown",
      "source": [
        "\n",
        "\n",
        "---\n",
        "\n"
      ],
      "metadata": {
        "id": "NVc8if8ol_a8"
      }
    },
    {
      "cell_type": "code",
      "source": [
        "# Create a list of colors based on the 'purchased' column\n",
        "colors = ['green' if purchased else 'blue' for purchased in conversion_rates['purchased']]\n",
        "\n",
        "# Create the figure and plot\n",
        "plt.figure(figsize=(10, 6))\n",
        "plt.bar(conversion_rates['checkout_page'] + ' - ' + conversion_rates['purchased'].astype(str),\n",
        "        conversion_rates['conversion_rate'],\n",
        "        color=colors)  # Here we use the colors list\n",
        "\n",
        "# Set labels and title\n",
        "plt.xlabel('Checkout Page - Purchased')\n",
        "plt.ylabel('Conversion Rate')\n",
        "plt.title('Conversion Rates by Checkout Page and Purchased')\n",
        "\n",
        "# Rotate x-axis labels for better visibility\n",
        "plt.xticks(rotation=45)\n",
        "\n",
        "# Show the plot\n",
        "plt.show()"
      ],
      "metadata": {
        "colab": {
          "base_uri": "https://localhost:8080/",
          "height": 592
        },
        "id": "-iWTGiXcHe3B",
        "outputId": "79ca72e4-3dec-41de-8eb2-da5ae6ce550c"
      },
      "execution_count": null,
      "outputs": [
        {
          "output_type": "display_data",
          "data": {
            "text/plain": [
              "<Figure size 1000x600 with 1 Axes>"
            ],
            "image/png": "[encoded data removed]"
          },
          "metadata": {}
        }
      ]
    },
    {
      "cell_type": "markdown",
      "source": [
        "\n",
        "\n",
        "---\n",
        "\n"
      ],
      "metadata": {
        "id": "nPwtdgQFmBBk"
      }
    },
    {
      "cell_type": "markdown",
      "source": [
        "# STATISTICAL ANALYSIS"
      ],
      "metadata": {
        "id": "NP1GplBzJq9J"
      }
    },
    {
      "cell_type": "markdown",
      "source": [
        "SHOWING CONVERSION RATES CHECKOUT_PAGE VS PURCHASED"
      ],
      "metadata": {
        "id": "W-gjVDz9IxBD"
      }
    },
    {
      "cell_type": "code",
      "source": [
        "# Conversion Rates FOR checkout_page and purchased\n",
        "conversion_rates = checkout.groupby(['checkout_page', 'purchased']).size().div(\n",
        "    checkout.groupby('checkout_page').size()\n",
        ").reset_index(name='conversion_rate')\n",
        "\n",
        "print(conversion_rates)"
      ],
      "metadata": {
        "colab": {
          "base_uri": "https://localhost:8080/"
        },
        "id": "W-dHJXHSIlAd",
        "outputId": "54fdf5e1-5354-40bc-b283-a08d4632c775"
      },
      "execution_count": null,
      "outputs": [
        {
          "output_type": "stream",
          "name": "stdout",
          "text": [
            "  checkout_page  purchased  conversion_rate\n",
            "0             A        0.0         0.179667\n",
            "1             A        1.0         0.820333\n",
            "2             B        0.0         0.153000\n",
            "3             B        1.0         0.847000\n",
            "4             C        0.0         0.132333\n",
            "5             C        1.0         0.867667\n"
          ]
        }
      ]
    },
    {
      "cell_type": "code",
      "source": [
        "n_A = checkout[checkout['checkout_page'] == 'A']['purchased'].count()\n",
        "n_B = checkout[checkout['checkout_page'] == 'B']['purchased'].count()\n",
        "n_C = checkout[checkout['checkout_page'] == 'C']['purchased'].count()\n",
        "print('Group A users: ', n_A)\n",
        "print('Group B users: ', n_B)\n",
        "print('Group C users: ', n_C)"
      ],
      "metadata": {
        "id": "5u6yh0u0T9tu",
        "colab": {
          "base_uri": "https://localhost:8080/"
        },
        "outputId": "9947b79b-18f6-4eeb-c90e-323c51fc636a"
      },
      "execution_count": null,
      "outputs": [
        {
          "output_type": "stream",
          "name": "stdout",
          "text": [
            "Group A users:  3000\n",
            "Group B users:  3000\n",
            "Group C users:  3000\n"
          ]
        }
      ]
    },
    {
      "cell_type": "code",
      "source": [
        "p_A = checkout[checkout['checkout_page'] == 'A']['purchased'].mean()\n",
        "p_B = checkout[checkout['checkout_page'] == 'B']['purchased'].mean()\n",
        "p_C = checkout[checkout['checkout_page'] == 'C']['purchased'].mean()\n",
        "print(\"Group A mean purchase rate: \", round(p_A,3))\n",
        "print(\"Group B mean purchase rate: \", p_B)\n",
        "print(\"Group C mean purchase rate: \", round(p_C,3))"
      ],
      "metadata": {
        "colab": {
          "base_uri": "https://localhost:8080/"
        },
        "id": "OBITuDh0_Akl",
        "outputId": "539c934c-8a3d-4ecf-aff9-b4330a506f21"
      },
      "execution_count": null,
      "outputs": [
        {
          "output_type": "stream",
          "name": "stdout",
          "text": [
            "Group A mean purchase rate:  0.82\n",
            "Group B mean purchase rate:  0.847\n",
            "Group C mean purchase rate:  0.868\n"
          ]
        }
      ]
    },
    {
      "cell_type": "markdown",
      "source": [
        "PROBABILITY DENSITY FUNCTIONS OF PURCHASED PROPORTIONS FOR CHECKOUTS"
      ],
      "metadata": {
        "id": "Bh2Yx_vGpaWA"
      }
    },
    {
      "cell_type": "code",
      "source": [
        "# Crear rango en eje x\n",
        "x = np.linspace(0.775, 0.9, 500)\n",
        "norm_a = norm.pdf(x, p_A, np.sqrt(p_A*(1-p_A) / n_A))\n",
        "norm_b = norm.pdf(x, p_B, np.sqrt(p_B*(1-p_B) / n_B))\n",
        "norm_c = norm.pdf(x, p_C, np.sqrt(p_C*(1-p_C) / n_C))\n",
        "# Plot normal distribution\n",
        "fig, ax = plt.subplots()\n",
        "sns.lineplot(x=x, y=norm_a, ax=ax, label='Checkout A')\n",
        "sns.lineplot(x=x, y=norm_b, color='orange', ax=ax, label='Checkout B')\n",
        "sns.lineplot(x=x, y=norm_c, color='green', ax=ax, label='Checkout C')\n",
        "ax.axvline(p_A, linestyle='--')\n",
        "ax.axvline(p_B, linestyle='--')\n",
        "ax.axvline(p_C, linestyle='--')\n",
        "plt.title('Distribution of Purchased Proportions at Checkouts')\n",
        "plt.xlabel('Purchased Proportion')\n",
        "plt.ylabel('PDF')\n",
        "plt.legend(loc=\"upper left\")\n",
        "plt.show()"
      ],
      "metadata": {
        "colab": {
          "base_uri": "https://localhost:8080/",
          "height": 472
        },
        "outputId": "a3cc8a6c-9fe2-41ed-a9ab-e5c574b9e21a",
        "id": "APMWSFc9o39l"
      },
      "execution_count": null,
      "outputs": [
        {
          "output_type": "display_data",
          "data": {
            "text/plain": [
              "<Figure size 640x480 with 1 Axes>"
            ],
            "image/png": "[encoded data removed]"
          },
          "metadata": {}
        }
      ]
    },
    {
      "cell_type": "markdown",
      "source": [
        "\n",
        "\n",
        "---\n",
        "\n"
      ],
      "metadata": {
        "id": "QgqohTrKmCtE"
      }
    },
    {
      "cell_type": "markdown",
      "source": [
        "TEST EFFECT SIZE FOR 3 GROUPS"
      ],
      "metadata": {
        "id": "Br6CvdAKU2Fi"
      }
    },
    {
      "cell_type": "code",
      "source": [
        "# Define effect size, alpha, and power\n",
        "effect_size = 0.8  # Example effect size (Cohen's h)\n",
        "alpha = 0.05\n",
        "power_desired = 0.95\n",
        "\n",
        "# Calculate required sample size for each group\n",
        "required_sample_size = power.tt_ind_solve_power(effect_size=effect_size,\n",
        "                                                   power=power_desired,\n",
        "                                                   alpha=alpha,\n",
        "                                                   nobs1=None)\n",
        "\n",
        "# Available sample size per group\n",
        "available_sample_size = 9000 / 3\n",
        "\n",
        "# Check if the available sample size is sufficient\n",
        "if available_sample_size >= required_sample_size:\n",
        "    print(\"The available sample size fulfills the desired effect size.\")\n",
        "else:\n",
        "    print(\"The available sample size is insufficient for the desired effect size.\")"
      ],
      "metadata": {
        "colab": {
          "base_uri": "https://localhost:8080/"
        },
        "id": "tGw0pRebSYb_",
        "outputId": "30f2c733-e9c8-4728-e8ee-99bfea0fc5fb"
      },
      "execution_count": null,
      "outputs": [
        {
          "output_type": "stream",
          "name": "stdout",
          "text": [
            "The available sample size fulfills the desired effect size.\n"
          ]
        }
      ]
    },
    {
      "cell_type": "code",
      "source": [
        "mean_A = checkout[checkout['checkout_page'] == 'A']['order_value'].mean()\n",
        "print(mean_A)\n",
        "mean_B = checkout[checkout['checkout_page'] == 'B']['order_value'].mean()\n",
        "print(mean_B)\n",
        "mean_C = checkout[checkout['checkout_page'] == 'C']['order_value'].mean()\n",
        "print(mean_C)"
      ],
      "metadata": {
        "colab": {
          "base_uri": "https://localhost:8080/"
        },
        "id": "2m8khTETVG-3",
        "outputId": "4c21375b-2a84-4911-e88b-585a66747aea"
      },
      "execution_count": null,
      "outputs": [
        {
          "output_type": "stream",
          "name": "stdout",
          "text": [
            "24.95643704349289\n",
            "29.876202331571395\n",
            "34.917588990205545\n"
          ]
        }
      ]
    },
    {
      "cell_type": "code",
      "source": [
        "std_A = checkout[checkout['checkout_page'] == 'A']['order_value'].std()\n",
        "print(std_A)\n",
        "std_B = checkout[checkout['checkout_page'] == 'B']['order_value'].std()\n",
        "print(std_B)\n",
        "std_C = checkout[checkout['checkout_page'] == 'C']['order_value'].std()\n",
        "print(std_C)"
      ],
      "metadata": {
        "colab": {
          "base_uri": "https://localhost:8080/"
        },
        "id": "-S-C6pxDWrgU",
        "outputId": "ea401976-5cc1-4cc9-d498-c241349b997c"
      },
      "execution_count": null,
      "outputs": [
        {
          "output_type": "stream",
          "name": "stdout",
          "text": [
            "2.418836768813335\n",
            "7.277644184694833\n",
            "4.869816187984871\n"
          ]
        }
      ]
    },
    {
      "cell_type": "markdown",
      "source": [
        "CORROBORATING THE DESIRED POWER"
      ],
      "metadata": {
        "id": "yeKv2b0Uanzr"
      }
    },
    {
      "cell_type": "code",
      "source": [
        "# Set the parameters\n",
        "alpha = 0.05\n",
        "sample_size = 3000\n",
        "group_means = [24.95643704349289, 29.876202331571395, 34.917588990205545]\n",
        "group_std_devs = [2.4188, 7.2776, 4.8698]\n",
        "num_simulations = 10000  # Number of simulations to estimate power\n",
        "num_groups = len(group_means)\n",
        "\n",
        "# Function to run one simulation of the experiment\n",
        "def simulate_experiment():\n",
        "    samples = []\n",
        "    for i in range(num_groups):\n",
        "        samples.append(np.random.normal(group_means[i], group_std_devs[i], sample_size))\n",
        "    f_stat, p_value = stats.f_oneway(*samples)\n",
        "    return p_value < alpha\n",
        "\n",
        "# Run the simulations\n",
        "num_rejections = sum(simulate_experiment() for _ in range(num_simulations))\n",
        "\n",
        "# Estimate the power\n",
        "power_estimate = num_rejections / num_simulations\n",
        "print(f\"Estimated power: {power_estimate}\")"
      ],
      "metadata": {
        "colab": {
          "base_uri": "https://localhost:8080/"
        },
        "id": "dWGDhgwCZXm2",
        "outputId": "3540de80-3dc1-4672-8e1f-6fb290ecfc0b"
      },
      "execution_count": null,
      "outputs": [
        {
          "output_type": "stream",
          "name": "stdout",
          "text": [
            "Estimated power: 1.0\n"
          ]
        }
      ]
    },
    {
      "cell_type": "markdown",
      "source": [
        "SHOWING PROPORTIONS FOR 3 GROUPS AND DETECTING SAMPLE RATIO MISMATCH"
      ],
      "metadata": {
        "id": "mEOz9VFj5pH6"
      }
    },
    {
      "cell_type": "code",
      "source": [
        "# Count unique users per checkout_page\n",
        "unique_users_by_page = checkout.groupby('checkout_page')['user_id'].nunique()\n",
        "\n",
        "control_users = unique_users_by_page.get('A', 0)\n",
        "exposed_users1 = unique_users_by_page.get('B', 0)\n",
        "exposed_users2 = unique_users_by_page.get('C', 0)\n",
        "\n",
        "total_users = control_users + exposed_users1 + exposed_users2\n",
        "\n",
        "control_perc = control_users / total_users\n",
        "exposed_perc_B = exposed_users1 / total_users\n",
        "exposed_perc_C = exposed_users2 / total_users\n",
        "\n",
        "print(f\"Percentage of users in the Control group: {control_perc:.2%}\")\n",
        "print(f\"Percentage of users in the Exposed group B: {exposed_perc_B:.2%}\")\n",
        "print(f\"Percentage of users in the Exposed group C: {exposed_perc_C:.2%}\")\n",
        "\n",
        "# Observed user counts\n",
        "observed = [control_users, exposed_users1, exposed_users2]\n",
        "\n",
        "# Expected user counts assuming equal distribution\n",
        "expected_total_users = np.sum(observed)\n",
        "expected_users_per_group = expected_total_users / len(observed)\n",
        "expected = [expected_users_per_group] * len(observed)\n",
        "\n",
        "# Chi-square test\n",
        "chi = chisquare(observed, f_exp=expected)\n",
        "print(chi)\n",
        "\n",
        "if chi.pvalue < 0.01:\n",
        "    print(\"SRM may be present\")\n",
        "else:\n",
        "    print(\"SRM likely not present\")\n",
        "\n",
        "# Calculate proportions of `order_value` for each `checkout_page`\n",
        "proportions = checkout.groupby('checkout_page')['order_value'].value_counts(normalize=True)\n",
        "\n",
        "# Convert to DataFrame for better readability (optional)\n",
        "proportions_df = proportions.rename('proportion').reset_index()\n",
        "\n",
        "#print(proportions_df)"
      ],
      "metadata": {
        "colab": {
          "base_uri": "https://localhost:8080/"
        },
        "id": "YDj2OIhj3VTE",
        "outputId": "b627d650-bc64-4c40-9d5b-6e951e9b28bf"
      },
      "execution_count": null,
      "outputs": [
        {
          "output_type": "stream",
          "name": "stdout",
          "text": [
            "Percentage of users in the Control group: 33.29%\n",
            "Percentage of users in the Exposed group B: 33.27%\n",
            "Percentage of users in the Exposed group C: 33.45%\n",
            "Power_divergenceResult(statistic=0.051630434782608696, pvalue=0.9745151464235225)\n",
            "SRM likely not present\n"
          ]
        }
      ]
    },
    {
      "cell_type": "markdown",
      "source": [
        "COMPARING GROUP DIFFERENCES: COHEN'S D EFFECT SIZES"
      ],
      "metadata": {
        "id": "v4S9jph3QzV-"
      }
    },
    {
      "cell_type": "code",
      "source": [
        "# Calculate means and standard deviations for each group\n",
        "means = checkout.groupby('checkout_page')['time_on_page'].mean()\n",
        "stds = checkout.groupby('checkout_page')['time_on_page'].std()\n",
        "ns = checkout.groupby('checkout_page')['time_on_page'].count()\n",
        "\n",
        "# Extracting values\n",
        "mean_A, mean_B, mean_C = means['A'], means['B'], means['C']\n",
        "std_A, std_B, std_C = stds['A'], stds['B'], stds['C']\n",
        "n_A, n_B, n_C = ns['A'], ns['B'], ns['C']\n",
        "\n",
        "# Function to calculate Cohen's d\n",
        "def calculate_cohens_d(mean1, mean2, std1, std2, n1, n2):\n",
        "    pooled_std = np.sqrt(((n1 - 1) * std1**2 + (n2 - 1) * std2**2) / (n1 + n2 - 2))\n",
        "    cohen_d = (mean1 - mean2) / pooled_std\n",
        "    return cohen_d\n",
        "\n",
        "# Calculate Cohen's d for each pair of groups\n",
        "d_AB = calculate_cohens_d(mean_A, mean_B, std_A, std_B, n_A, n_B)\n",
        "d_AC = calculate_cohens_d(mean_A, mean_C, std_A, std_C, n_A, n_C)\n",
        "d_BC = calculate_cohens_d(mean_B, mean_C, std_B, std_C, n_B, n_C)\n",
        "\n",
        "print(f\"Cohen's d for A vs B: {d_AB:.3f}\")\n",
        "print(f\"Cohen's d for A vs C: {d_AC:.3f}\")\n",
        "print(f\"Cohen's d for B vs C: {d_BC:.3f}\")"
      ],
      "metadata": {
        "id": "cOAdPj2Oqs_F",
        "colab": {
          "base_uri": "https://localhost:8080/"
        },
        "outputId": "8700cb3e-e2b7-424f-fbcf-6888e4dbaaa1"
      },
      "execution_count": null,
      "outputs": [
        {
          "output_type": "stream",
          "name": "stdout",
          "text": [
            "Cohen's d for A vs B: 0.181\n",
            "Cohen's d for A vs C: 0.228\n",
            "Cohen's d for B vs C: 0.052\n"
          ]
        }
      ]
    },
    {
      "cell_type": "markdown",
      "source": [
        "**OBSERVATIONS:**\n",
        "\n",
        "Comparing the values, we can see that the difference in time spent on page A compared to page C (d = 0.228) is larger than the difference between page A and page B (d = 0.181)\n",
        "\n",
        "A has a small impact on C, effect size of 0.228 means that for every standard deviation unit change in the variable C, the variable A changes by approximately 0.23 standard deviation units\n",
        "\n",
        "The effect of page A on time spent is more pronounced when compared to page C.\n",
        "\n",
        "In conclusion, the time spent on page A has a greater effect size on the time spent on page C than on page B"
      ],
      "metadata": {
        "id": "wb0utP59vGtC"
      }
    },
    {
      "cell_type": "markdown",
      "source": [
        "# A/B TEST ANALYSIS"
      ],
      "metadata": {
        "id": "6hEv6udwWIp4"
      }
    },
    {
      "cell_type": "markdown",
      "source": [
        "## TESTING FOR DIFFERENCES IN PURCHASE PROBABILITY ACROSS CHECKOUT PAGES: PAIRWISE ANALYSIS"
      ],
      "metadata": {
        "id": "RoAIMMJQP1pp"
      }
    },
    {
      "cell_type": "code",
      "source": [
        "pairwise = pingouin.pairwise_tests(data=checkout,\n",
        "                                   dv='purchased',\n",
        "                                   between='checkout_page',\n",
        "                                   padjust='bonf')\n",
        "print(pairwise)"
      ],
      "metadata": {
        "colab": {
          "base_uri": "https://localhost:8080/"
        },
        "id": "JlwZ6rsHjiqu",
        "outputId": "3896e17d-b580-4c18-f600-68f46a6a1a8d"
      },
      "execution_count": null,
      "outputs": [
        {
          "output_type": "stream",
          "name": "stdout",
          "text": [
            "        Contrast  A  B  Paired  Parametric         T     dof alternative  \\\n",
            "0  checkout_page  A  B   False        True -2.774819  5998.0   two-sided   \n",
            "1  checkout_page  A  C   False        True -5.062121  5998.0   two-sided   \n",
            "2  checkout_page  B  C   False        True -2.289271  5998.0   two-sided   \n",
            "\n",
            "          p-unc    p-corr p-adjust       BF10    hedges  \n",
            "0  5.540341e-03  0.016621     bonf      1.351 -0.071637  \n",
            "1  4.269844e-07  0.000001     bonf  1.007e+04 -0.130687  \n",
            "2  2.209820e-02  0.066295     bonf      0.397 -0.059101  \n"
          ]
        }
      ]
    },
    {
      "cell_type": "markdown",
      "source": [
        "**OBSERVATIONS:**\n",
        "\n",
        "We reject the null hypothesis for both comparisons (A vs B and A vs C), indicating that there are statistically significant differences in the purchase rates\n",
        "\n",
        "As for (B vs C) we fail to reject the null hypothesis, suggesting there is no statistically significant difference in the purchase rate between these two checkout pages at the 5% significance level\n",
        "\n",
        "Checkout Page C seems to perform better than both Checkout Page A and Checkout Page B in terms of purchase rates, we should focus on Page C"
      ],
      "metadata": {
        "id": "jlv1gM9EZxgI"
      }
    },
    {
      "cell_type": "markdown",
      "source": [
        "## TESTING FOR DIFFERENCES IN CHECKOUT PAGE TIME: PAIRWISE ANALYSIS"
      ],
      "metadata": {
        "id": "xA3qzCmhPIUJ"
      }
    },
    {
      "cell_type": "code",
      "source": [
        "pairwise = pingouin.pairwise_tests(data=checkout,\n",
        "                                   dv='time_on_page',\n",
        "                                   between='checkout_page',\n",
        "                                   padjust='bonf')\n",
        "print(pairwise)"
      ],
      "metadata": {
        "id": "YhQ4xP8TUHKa",
        "colab": {
          "base_uri": "https://localhost:8080/"
        },
        "outputId": "8ad57b61-b47d-4826-b83b-110622eb54af"
      },
      "execution_count": null,
      "outputs": [
        {
          "output_type": "stream",
          "name": "stdout",
          "text": [
            "        Contrast  A  B  Paired  Parametric         T     dof alternative  \\\n",
            "0  checkout_page  A  B   False        True  7.026673  5998.0   two-sided   \n",
            "1  checkout_page  A  C   False        True  8.833244  5998.0   two-sided   \n",
            "2  checkout_page  B  C   False        True  1.995423  5998.0   two-sided   \n",
            "\n",
            "          p-unc        p-corr p-adjust       BF10    hedges  \n",
            "0  2.349604e-12  7.048812e-12     bonf  1.305e+09  0.181405  \n",
            "1  1.316118e-18  3.948354e-18     bonf  1.811e+15  0.228045  \n",
            "2  4.604195e-02  1.381258e-01     bonf      0.212  0.051515  \n"
          ]
        }
      ]
    },
    {
      "cell_type": "markdown",
      "source": [
        "**OBSERVATIONS:**\n",
        "\n",
        "Page A might be more confusing, or more engaging, or requires more interaction from users, and because of that people spend more time on page A\n",
        "\n",
        "It might be possible that page C is more user-friendly than page B and because of that people spend less time on page C"
      ],
      "metadata": {
        "id": "Vd8rOsnqUqZD"
      }
    }
  ]
}